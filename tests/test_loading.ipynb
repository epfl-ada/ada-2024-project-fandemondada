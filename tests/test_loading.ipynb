{
 "cells": [
  {
   "cell_type": "code",
   "execution_count": null,
   "metadata": {},
   "outputs": [],
   "source": [
    "%reset -f\n",
    "import os\n",
    "import pandas as pd\n",
    "import numpy as np\n",
    "import matplotlib.pyplot as plt\n",
    "import warnings\n",
    "import tarfile\n",
    "import io\n",
    "import tqdm\n",
    "import csv\n",
    "import gzip\n",
    "import shutil"
   ]
  },
  {
   "cell_type": "code",
   "execution_count": null,
   "metadata": {},
   "outputs": [
    {
     "name": "stdout",
     "output_type": "stream",
     "text": [
      "['BeerAdvocate_beers.csv', 'BeerAdvocate_users.csv', 'BeerAdvocate_breweries.csv']\n"
     ]
    },
    {
     "name": "stderr",
     "output_type": "stream",
     "text": [
      "C:\\Users\\zalex\\AppData\\Local\\Temp\\ipykernel_21348\\1714768600.py:11: DtypeWarning: Columns (0,1,2,3,5,7,8,9,10,11,13,17,18,19,20,22,24,25,26,27,29,31) have mixed types. Specify dtype option on import or set low_memory=False.\n",
      "  dataframes.append(pd.read_csv(f))\n",
      "C:\\Users\\zalex\\AppData\\Local\\Temp\\ipykernel_21348\\1714768600.py:11: DtypeWarning: Columns (0,1,2,3,4,5,8,10,11,12,13,15,16,17,18,19,20,23,25,26,27,29,30,31,32) have mixed types. Specify dtype option on import or set low_memory=False.\n",
      "  dataframes.append(pd.read_csv(f))\n"
     ]
    },
    {
     "name": "stdout",
     "output_type": "stream",
     "text": [
      "['BeerAdvocate_beers.csv', 'BeerAdvocate_users.csv', 'BeerAdvocate_breweries.csv', 'matched_beer_data_ratings.csv', 'matched_beer_data_users_approx.csv', 'matched_beer_data_users.csv', 'matched_beer_data_beers.csv', 'matched_beer_data_breweries.csv']\n",
      "['BeerAdvocate_beers.csv', 'BeerAdvocate_users.csv', 'BeerAdvocate_breweries.csv', 'matched_beer_data_ratings.csv', 'matched_beer_data_users_approx.csv', 'matched_beer_data_users.csv', 'matched_beer_data_beers.csv', 'matched_beer_data_breweries.csv', 'RateBeer_beers.csv', 'RateBeer_users.csv', 'RateBeer_breweries.csv']\n"
     ]
    }
   ],
   "source": [
    "def load_data(folder_path, folder, names, dataframes, bool_load_txt = False):\n",
    "    \"\"\"\n",
    "    Load les données dans 2 listes tmtc\n",
    "    \"\"\"\n",
    "    list_tar_files = tarfile.open(folder_path + folder, 'r:gz')\n",
    "            \n",
    "    for file in list_tar_files:\n",
    "        \n",
    "        if file.name.endswith(\".csv\"):\n",
    "            f = list_tar_files.extractfile(file)     \n",
    "            dataframes.append(pd.read_csv(f))\n",
    "            names.append(folder[:-7] + \"_\" + file.name)\n",
    "        \n",
    "        if file.name.endswith(\".txt.gz\") and bool_load_txt:\n",
    "            newpath = \"temp/\" \n",
    "            if not os.path.exists(newpath):\n",
    "                os.makedirs(newpath)\n",
    "            list_tar_files.extract(file, path=newpath)\n",
    "            load_txt(newpath + \"/\" + file.name)\n",
    "            dataframes.append(pd.read_csv(newpath + \"/\" + file.name[:-7] + \".csv\"))\n",
    "            names.append(folder[:-7] + \"_\" + file.name[:-7] + \".csv\")\n",
    "    \n",
    "    if bool_load_txt:\n",
    "        shutil.rmtree(newpath)\n",
    "    print(names)\n",
    "\n",
    "def load_txt(file_path):\n",
    "    \"\"\"\n",
    "    \n",
    "    \"\"\"\n",
    "    with gzip.open(file_path,'rb') as f:\n",
    "        reviews = []\n",
    "        review = {}\n",
    "        \n",
    "        for line in tqdm.tqdm(f):\n",
    "            line = str(line)\n",
    "           \n",
    "            if len(line.strip()) <= 5:\n",
    "                reviews.append(review)\n",
    "                review = {}\n",
    "            else:\n",
    "                field_name, field_value = line.split(':', 1)\n",
    "                review[field_name.strip()[2:]] = field_value.strip()[:-3]\n",
    "\n",
    "        print(\"Write to csv\")\n",
    "        file = csv.writer(open(file_path[:-7] + \".csv\", 'w'))\n",
    "        file.writerow(reviews[0].keys())\n",
    "        for review in tqdm.tqdm(reviews):\n",
    "            file.writerow(review.values())\n",
    "\n",
    "\n",
    "data_folder = 'C:/Users/zalex/Documents/EPFL/Master/Applied data analysis/Project/data/'\n",
    "\n",
    "names = []\n",
    "dataframes = []\n",
    "\n",
    "for folder in os.listdir(data_folder):\n",
    "    load_data(data_folder, folder, names, dataframes, False)\n"
   ]
  }
 ],
 "metadata": {
  "kernelspec": {
   "display_name": "ADA",
   "language": "python",
   "name": "python3"
  },
  "language_info": {
   "codemirror_mode": {
    "name": "ipython",
    "version": 3
   },
   "file_extension": ".py",
   "mimetype": "text/x-python",
   "name": "python",
   "nbconvert_exporter": "python",
   "pygments_lexer": "ipython3",
   "version": "3.11.9"
  }
 },
 "nbformat": 4,
 "nbformat_minor": 2
}
