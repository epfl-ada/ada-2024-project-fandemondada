{
 "cells": [
  {
   "cell_type": "code",
   "execution_count": 1,
   "id": "initial_id",
   "metadata": {
    "collapsed": true,
    "ExecuteTime": {
     "end_time": "2024-11-13T21:16:13.815282Z",
     "start_time": "2024-11-13T21:16:13.360631Z"
    }
   },
   "outputs": [],
   "source": [
    "import pandas as pd\n",
    "import os"
   ]
  },
  {
   "cell_type": "code",
   "outputs": [],
   "source": [
    "data_path = \"data/raw\"\n",
    "Ratebeer_path = lambda path: f\"{path}/Ratebeer\"\n",
    "BeerAdvocate_path = lambda path: f\"{path}/BeerAdvocate\"\n",
    "Matched_path = lambda path: f\"{path}/MatchedBeerData\"\n",
    "clean_path = \"data/clean\""
   ],
   "metadata": {
    "collapsed": false,
    "ExecuteTime": {
     "end_time": "2024-11-13T21:16:13.818618Z",
     "start_time": "2024-11-13T21:16:13.816340Z"
    }
   },
   "id": "fff6f50a37c56856",
   "execution_count": 2
  },
  {
   "cell_type": "code",
   "outputs": [],
   "source": [
    "common_replacements = {\n",
    "    \"Ã¡\": \"á\", \"Ã­\": \"í\", \"Ãº\": \"ú\",\n",
    "    \"Ã±\": \"ñ\", \"Ã\": \"Ñ\", \"Ã¼\": \"ü\", \"Ã\": \"Ü\",\n",
    "    \"Ã€\": \"À\", \"Ã©\": \"é\", \"Ã³\": \"ó\", \"Ã\": \"Í\", \"â\": \"'\", \"Ã\": \"ß\", \"\": \"'\",\n",
    "}\n",
    "\n",
    "def replace_common_chars(string):\n",
    "    for key, value in common_replacements.items():\n",
    "        string = string.replace(key, value)\n",
    "    return string\n",
    "\n",
    "def replace_common_enc_errors(df):\n",
    "    for column in string_columns(df):\n",
    "        df[column] = df[column].apply(replace_common_chars)\n",
    "    return df\n",
    "\n",
    "def decode_string(column):\n",
    "    \"\"\"\n",
    "    Decodes a column with weird characters like \\x92\\x09, they converted \n",
    "    are utf-8 equivalent for readability, it is not perfect but most common \n",
    "    characters are converted\n",
    "    \"\"\"\n",
    "    return column[~column.isna()].apply(\n",
    "        lambda x: replace_common_chars(x.encode().decode('unicode_escape').encode('latin1').decode('utf-8')))\n",
    "\n",
    "def get_us_states(df):\n",
    "    return df[df[\"location\"].str.contains(\",\")][\"location\"].unique()\n",
    "\n",
    "def filter_by_locations(df, locations):\n",
    "    return df[df[\"location\"].isin(locations)]\n",
    "\n",
    "def filter_by_state(df, state):\n",
    "    return df[df[\"location\"].str.contains(state)]\n",
    "\n",
    "def filter_only_americans(df):\n",
    "    return filter_by_locations(df, get_us_states(df))\n",
    "\n",
    "def filter_by_users(df, users):\n",
    "    return df[df[\"user_id\"].isin(users[\"user_id\"])]\n",
    "\n",
    "def extract_nan_as_column(df, column_name, replace_value=0):\n",
    "    \"\"\"\n",
    "    If a column has nans it extracts them from the column and creates a new column with the same name and '_nan' appended. Nan values are replaced by the replace_value and the new column has 1 where the original column had nan.\n",
    "    \n",
    "    For logistic regression, this is useful to let the model decide how best to replace nan values\n",
    "    \"\"\"\n",
    "    if df[column_name].isna().sum() == 0:\n",
    "        return\n",
    "    nan_column_name = f\"{column_name}_nan\"\n",
    "    is_nan = df[column_name].isna()\n",
    "    df[column_name][is_nan] = replace_value\n",
    "    df[nan_column_name] = is_nan.astype(int)\n",
    "    \n",
    "def decode_into_utf8_df(df):\n",
    "    string_columns = df.dtypes[ratings_ba.dtypes == \"object\"].index\n",
    "    for column in string_columns:\n",
    "        df[column] = decode_string(df[column])\n",
    "   \n",
    "   \n",
    "def numerical_columns(df):\n",
    "    return df.dtypes[df.dtypes != \"object\"].index[1:]\n",
    "\n",
    "def string_columns(df):\n",
    "    return df.dtypes[df.dtypes == \"object\"].index\n",
    "\n",
    "def extract_nans_as_columns_df(df, column_names, replace_value=0):\n",
    "    for column in column_names:\n",
    "        extract_nan_as_column(df, column, replace_value=replace_value)\n",
    "        \n",
    "def clean_df(df, clean_nan_func, clean_chars_func):\n",
    "    \"\"\"\n",
    "    Cleans a dataframe by cleaning all string columns and extracting nans as columns for columns with nans\n",
    "    \"\"\"\n",
    "    for column in string_columns(df):\n",
    "        df[column] = clean_chars_func(df[column], clean_nan_func, clean_chars_func)\n",
    "    extract_nans_as_columns_df(df, string_columns(df), replace_value=\"\")\n",
    "    extract_nans_as_columns_df(df, numerical_columns(df), replace_value=0)\n",
    "\n",
    "def clean_ratings(df):\n",
    "    \"\"\"\n",
    "    Cleans a dataframe by cleaning all string columns and extracting nans as columns for columns with nans\n",
    "    \"\"\"\n",
    "    for column in string_columns(df):\n",
    "        df[column] = decode_string(df[column])\n",
    "    extract_nans_as_columns_df(df, string_columns(df), replace_value=\"\")\n",
    "    extract_nans_as_columns_df(df, numerical_columns(df), replace_value=0)\n",
    "    return df\n",
    "\n",
    "def clean_matched_data(df):\n",
    "    \"\"\"\n",
    "    Basic cleaning that is common to all matched data:\n",
    "    - Replace column names with right ones (e.g. 'ba_1' -> 'ba_user_id')\n",
    "    - Delete the first row as it contains the column names in the original dataset\n",
    "    - Convert columns to numeric if possible\n",
    "    - Extract nans as columns for numerical columns\n",
    "    \"\"\"\n",
    "    # Since the first row is the name of the columns, we drop it and change the column names to lowercase\n",
    "    df.columns = df.columns.str.lower()\n",
    "    first_rows = df.iloc[0]\n",
    "    # Rename columns so we can remove the first row\n",
    "    df.columns = [column if i == 0 else f\"{column.split('.')[0]}_{first_rows[column]}\" for i, column in\n",
    "                  enumerate(df.columns)]\n",
    "    df = df.iloc[1:]\n",
    "    df = df.apply(pd.to_numeric, errors='ignore')\n",
    "    extract_nans_as_columns_df(df, numerical_columns(df), replace_value=0)\n",
    "    extract_nans_as_columns_df(df, string_columns(df), replace_value=\"\")\n",
    "    return df"
   ],
   "metadata": {
    "collapsed": false,
    "ExecuteTime": {
     "end_time": "2024-11-13T21:16:13.826776Z",
     "start_time": "2024-11-13T21:16:13.819402Z"
    }
   },
   "id": "1eda47ea6f282f87",
   "execution_count": 3
  },
  {
   "cell_type": "markdown",
   "source": [
    "## Clean BeerAdvocate data"
   ],
   "metadata": {
    "collapsed": false
   },
   "id": "22a2cb65da371108"
  },
  {
   "cell_type": "code",
   "outputs": [],
   "source": [
    "users_ba = pd.read_csv(BeerAdvocate_path(data_path) + \"/BeerAdvocate_users.csv\")"
   ],
   "metadata": {
    "collapsed": false,
    "ExecuteTime": {
     "end_time": "2024-11-13T21:16:14.475885Z",
     "start_time": "2024-11-13T21:16:14.325957Z"
    }
   },
   "id": "90210872d19e1e2a",
   "execution_count": 4
  },
  {
   "cell_type": "markdown",
   "source": [
    "**Clean BeerAdvocate users.csv**"
   ],
   "metadata": {
    "collapsed": false
   },
   "id": "6f6ab70ca50ed918"
  },
  {
   "cell_type": "code",
   "outputs": [],
   "source": [
    "us_users_ba = filter_only_americans(users_ba.dropna(subset=[\"user_name\", \"location\"]))\n",
    "extract_nans_as_columns_df(us_users_ba, numerical_columns(us_users_ba), replace_value=0)\n",
    "extract_nans_as_columns_df(us_users_ba, string_columns(us_users_ba), replace_value=\"\")"
   ],
   "metadata": {
    "collapsed": false,
    "ExecuteTime": {
     "end_time": "2024-11-13T21:16:15.151042Z",
     "start_time": "2024-11-13T21:16:15.085395Z"
    }
   },
   "id": "d7e5706c58ada4c2",
   "execution_count": 5
  },
  {
   "cell_type": "markdown",
   "source": [
    "Save the cleaned american users to a csv file"
   ],
   "metadata": {
    "collapsed": false
   },
   "id": "8a1ea2630fc12b24"
  },
  {
   "cell_type": "code",
   "outputs": [],
   "source": [
    "os.makedirs(BeerAdvocate_path(clean_path), exist_ok=True)\n",
    "with open(BeerAdvocate_path(clean_path) + \"/usa_users.csv\", \"w\") as f:\n",
    "    us_users_ba.to_csv(f, index=False)"
   ],
   "metadata": {
    "collapsed": false,
    "ExecuteTime": {
     "end_time": "2024-11-13T21:16:16.142810Z",
     "start_time": "2024-11-13T21:16:15.947593Z"
    }
   },
   "id": "62737f2c3b734145",
   "execution_count": 6
  },
  {
   "cell_type": "markdown",
   "source": [
    "### Clean ratings\n",
    "\n",
    "- Keep only reviews originating from the US\n",
    "- Drop rows with missing user_id or beer_id\n",
    "- Decode all string columns\n",
    "- Extract nans as seperate column for numerical columns, replacing nans with 0 in the original column\n",
    "- Extract nans as seperate columns for string columns, replacing nans with \"\" in the original column"
   ],
   "metadata": {
    "collapsed": false
   },
   "id": "91522ed9e1b4aa70"
  },
  {
   "cell_type": "code",
   "outputs": [],
   "source": [
    "ratings_ba = pd.read_csv(BeerAdvocate_path(data_path) + \"/BeerAdvocate_ratings.csv\")"
   ],
   "metadata": {
    "collapsed": false,
    "ExecuteTime": {
     "end_time": "2024-11-13T21:17:07.917390Z",
     "start_time": "2024-11-13T21:16:16.951025Z"
    }
   },
   "id": "9888380b832b3a25",
   "execution_count": 7
  },
  {
   "cell_type": "code",
   "outputs": [
    {
     "name": "stderr",
     "output_type": "stream",
     "text": [
      "/var/folders/_b/w9s75zbd5tsf70gz6vs4nshh0000gn/T/ipykernel_54915/3965183988.py:50: FutureWarning: ChainedAssignmentError: behaviour will change in pandas 3.0!\n",
      "You are setting values through chained assignment. Currently this works in certain cases, but when using Copy-on-Write (which will become the default behaviour in pandas 3.0) this will never work to update the original DataFrame or Series, because the intermediate object on which we are setting values will behave as a copy.\n",
      "A typical example is when you are setting values in a column of a DataFrame, like:\n",
      "\n",
      "df[\"col\"][row_indexer] = value\n",
      "\n",
      "Use `df.loc[row_indexer, \"col\"] = values` instead, to perform the assignment in a single step and ensure this keeps updating the original `df`.\n",
      "\n",
      "See the caveats in the documentation: https://pandas.pydata.org/pandas-docs/stable/user_guide/indexing.html#returning-a-view-versus-a-copy\n",
      "\n",
      "  df[column_name][is_nan] = replace_value\n",
      "/var/folders/_b/w9s75zbd5tsf70gz6vs4nshh0000gn/T/ipykernel_54915/3965183988.py:50: SettingWithCopyWarning: \n",
      "A value is trying to be set on a copy of a slice from a DataFrame\n",
      "\n",
      "See the caveats in the documentation: https://pandas.pydata.org/pandas-docs/stable/user_guide/indexing.html#returning-a-view-versus-a-copy\n",
      "  df[column_name][is_nan] = replace_value\n",
      "/var/folders/_b/w9s75zbd5tsf70gz6vs4nshh0000gn/T/ipykernel_54915/3965183988.py:50: FutureWarning: ChainedAssignmentError: behaviour will change in pandas 3.0!\n",
      "You are setting values through chained assignment. Currently this works in certain cases, but when using Copy-on-Write (which will become the default behaviour in pandas 3.0) this will never work to update the original DataFrame or Series, because the intermediate object on which we are setting values will behave as a copy.\n",
      "A typical example is when you are setting values in a column of a DataFrame, like:\n",
      "\n",
      "df[\"col\"][row_indexer] = value\n",
      "\n",
      "Use `df.loc[row_indexer, \"col\"] = values` instead, to perform the assignment in a single step and ensure this keeps updating the original `df`.\n",
      "\n",
      "See the caveats in the documentation: https://pandas.pydata.org/pandas-docs/stable/user_guide/indexing.html#returning-a-view-versus-a-copy\n",
      "\n",
      "  df[column_name][is_nan] = replace_value\n",
      "/var/folders/_b/w9s75zbd5tsf70gz6vs4nshh0000gn/T/ipykernel_54915/3965183988.py:50: SettingWithCopyWarning: \n",
      "A value is trying to be set on a copy of a slice from a DataFrame\n",
      "\n",
      "See the caveats in the documentation: https://pandas.pydata.org/pandas-docs/stable/user_guide/indexing.html#returning-a-view-versus-a-copy\n",
      "  df[column_name][is_nan] = replace_value\n",
      "/var/folders/_b/w9s75zbd5tsf70gz6vs4nshh0000gn/T/ipykernel_54915/3965183988.py:50: FutureWarning: ChainedAssignmentError: behaviour will change in pandas 3.0!\n",
      "You are setting values through chained assignment. Currently this works in certain cases, but when using Copy-on-Write (which will become the default behaviour in pandas 3.0) this will never work to update the original DataFrame or Series, because the intermediate object on which we are setting values will behave as a copy.\n",
      "A typical example is when you are setting values in a column of a DataFrame, like:\n",
      "\n",
      "df[\"col\"][row_indexer] = value\n",
      "\n",
      "Use `df.loc[row_indexer, \"col\"] = values` instead, to perform the assignment in a single step and ensure this keeps updating the original `df`.\n",
      "\n",
      "See the caveats in the documentation: https://pandas.pydata.org/pandas-docs/stable/user_guide/indexing.html#returning-a-view-versus-a-copy\n",
      "\n",
      "  df[column_name][is_nan] = replace_value\n",
      "/var/folders/_b/w9s75zbd5tsf70gz6vs4nshh0000gn/T/ipykernel_54915/3965183988.py:50: SettingWithCopyWarning: \n",
      "A value is trying to be set on a copy of a slice from a DataFrame\n",
      "\n",
      "See the caveats in the documentation: https://pandas.pydata.org/pandas-docs/stable/user_guide/indexing.html#returning-a-view-versus-a-copy\n",
      "  df[column_name][is_nan] = replace_value\n",
      "/var/folders/_b/w9s75zbd5tsf70gz6vs4nshh0000gn/T/ipykernel_54915/3965183988.py:50: FutureWarning: ChainedAssignmentError: behaviour will change in pandas 3.0!\n",
      "You are setting values through chained assignment. Currently this works in certain cases, but when using Copy-on-Write (which will become the default behaviour in pandas 3.0) this will never work to update the original DataFrame or Series, because the intermediate object on which we are setting values will behave as a copy.\n",
      "A typical example is when you are setting values in a column of a DataFrame, like:\n",
      "\n",
      "df[\"col\"][row_indexer] = value\n",
      "\n",
      "Use `df.loc[row_indexer, \"col\"] = values` instead, to perform the assignment in a single step and ensure this keeps updating the original `df`.\n",
      "\n",
      "See the caveats in the documentation: https://pandas.pydata.org/pandas-docs/stable/user_guide/indexing.html#returning-a-view-versus-a-copy\n",
      "\n",
      "  df[column_name][is_nan] = replace_value\n",
      "/var/folders/_b/w9s75zbd5tsf70gz6vs4nshh0000gn/T/ipykernel_54915/3965183988.py:50: SettingWithCopyWarning: \n",
      "A value is trying to be set on a copy of a slice from a DataFrame\n",
      "\n",
      "See the caveats in the documentation: https://pandas.pydata.org/pandas-docs/stable/user_guide/indexing.html#returning-a-view-versus-a-copy\n",
      "  df[column_name][is_nan] = replace_value\n",
      "/var/folders/_b/w9s75zbd5tsf70gz6vs4nshh0000gn/T/ipykernel_54915/3965183988.py:50: FutureWarning: ChainedAssignmentError: behaviour will change in pandas 3.0!\n",
      "You are setting values through chained assignment. Currently this works in certain cases, but when using Copy-on-Write (which will become the default behaviour in pandas 3.0) this will never work to update the original DataFrame or Series, because the intermediate object on which we are setting values will behave as a copy.\n",
      "A typical example is when you are setting values in a column of a DataFrame, like:\n",
      "\n",
      "df[\"col\"][row_indexer] = value\n",
      "\n",
      "Use `df.loc[row_indexer, \"col\"] = values` instead, to perform the assignment in a single step and ensure this keeps updating the original `df`.\n",
      "\n",
      "See the caveats in the documentation: https://pandas.pydata.org/pandas-docs/stable/user_guide/indexing.html#returning-a-view-versus-a-copy\n",
      "\n",
      "  df[column_name][is_nan] = replace_value\n",
      "/var/folders/_b/w9s75zbd5tsf70gz6vs4nshh0000gn/T/ipykernel_54915/3965183988.py:50: SettingWithCopyWarning: \n",
      "A value is trying to be set on a copy of a slice from a DataFrame\n",
      "\n",
      "See the caveats in the documentation: https://pandas.pydata.org/pandas-docs/stable/user_guide/indexing.html#returning-a-view-versus-a-copy\n",
      "  df[column_name][is_nan] = replace_value\n",
      "/var/folders/_b/w9s75zbd5tsf70gz6vs4nshh0000gn/T/ipykernel_54915/3965183988.py:50: FutureWarning: ChainedAssignmentError: behaviour will change in pandas 3.0!\n",
      "You are setting values through chained assignment. Currently this works in certain cases, but when using Copy-on-Write (which will become the default behaviour in pandas 3.0) this will never work to update the original DataFrame or Series, because the intermediate object on which we are setting values will behave as a copy.\n",
      "A typical example is when you are setting values in a column of a DataFrame, like:\n",
      "\n",
      "df[\"col\"][row_indexer] = value\n",
      "\n",
      "Use `df.loc[row_indexer, \"col\"] = values` instead, to perform the assignment in a single step and ensure this keeps updating the original `df`.\n",
      "\n",
      "See the caveats in the documentation: https://pandas.pydata.org/pandas-docs/stable/user_guide/indexing.html#returning-a-view-versus-a-copy\n",
      "\n",
      "  df[column_name][is_nan] = replace_value\n",
      "/var/folders/_b/w9s75zbd5tsf70gz6vs4nshh0000gn/T/ipykernel_54915/3965183988.py:50: SettingWithCopyWarning: \n",
      "A value is trying to be set on a copy of a slice from a DataFrame\n",
      "\n",
      "See the caveats in the documentation: https://pandas.pydata.org/pandas-docs/stable/user_guide/indexing.html#returning-a-view-versus-a-copy\n",
      "  df[column_name][is_nan] = replace_value\n",
      "/var/folders/_b/w9s75zbd5tsf70gz6vs4nshh0000gn/T/ipykernel_54915/3965183988.py:50: FutureWarning: ChainedAssignmentError: behaviour will change in pandas 3.0!\n",
      "You are setting values through chained assignment. Currently this works in certain cases, but when using Copy-on-Write (which will become the default behaviour in pandas 3.0) this will never work to update the original DataFrame or Series, because the intermediate object on which we are setting values will behave as a copy.\n",
      "A typical example is when you are setting values in a column of a DataFrame, like:\n",
      "\n",
      "df[\"col\"][row_indexer] = value\n",
      "\n",
      "Use `df.loc[row_indexer, \"col\"] = values` instead, to perform the assignment in a single step and ensure this keeps updating the original `df`.\n",
      "\n",
      "See the caveats in the documentation: https://pandas.pydata.org/pandas-docs/stable/user_guide/indexing.html#returning-a-view-versus-a-copy\n",
      "\n",
      "  df[column_name][is_nan] = replace_value\n",
      "/var/folders/_b/w9s75zbd5tsf70gz6vs4nshh0000gn/T/ipykernel_54915/3965183988.py:50: SettingWithCopyWarning: \n",
      "A value is trying to be set on a copy of a slice from a DataFrame\n",
      "\n",
      "See the caveats in the documentation: https://pandas.pydata.org/pandas-docs/stable/user_guide/indexing.html#returning-a-view-versus-a-copy\n",
      "  df[column_name][is_nan] = replace_value\n",
      "/var/folders/_b/w9s75zbd5tsf70gz6vs4nshh0000gn/T/ipykernel_54915/3965183988.py:50: FutureWarning: ChainedAssignmentError: behaviour will change in pandas 3.0!\n",
      "You are setting values through chained assignment. Currently this works in certain cases, but when using Copy-on-Write (which will become the default behaviour in pandas 3.0) this will never work to update the original DataFrame or Series, because the intermediate object on which we are setting values will behave as a copy.\n",
      "A typical example is when you are setting values in a column of a DataFrame, like:\n",
      "\n",
      "df[\"col\"][row_indexer] = value\n",
      "\n",
      "Use `df.loc[row_indexer, \"col\"] = values` instead, to perform the assignment in a single step and ensure this keeps updating the original `df`.\n",
      "\n",
      "See the caveats in the documentation: https://pandas.pydata.org/pandas-docs/stable/user_guide/indexing.html#returning-a-view-versus-a-copy\n",
      "\n",
      "  df[column_name][is_nan] = replace_value\n",
      "/var/folders/_b/w9s75zbd5tsf70gz6vs4nshh0000gn/T/ipykernel_54915/3965183988.py:50: SettingWithCopyWarning: \n",
      "A value is trying to be set on a copy of a slice from a DataFrame\n",
      "\n",
      "See the caveats in the documentation: https://pandas.pydata.org/pandas-docs/stable/user_guide/indexing.html#returning-a-view-versus-a-copy\n",
      "  df[column_name][is_nan] = replace_value\n"
     ]
    }
   ],
   "source": [
    "ratings_ba = ratings_ba.dropna(subset=[\"user_id\", \"beer_id\"])\n",
    "ratings_ba = clean_ratings(ratings_ba)\n",
    "us_ratings_ba = filter_by_users(ratings_ba, us_users_ba)"
   ],
   "metadata": {
    "collapsed": false,
    "ExecuteTime": {
     "end_time": "2024-11-13T21:19:20.491291Z",
     "start_time": "2024-11-13T21:17:07.923208Z"
    }
   },
   "id": "cf0f37e24e0078f0",
   "execution_count": 8
  },
  {
   "cell_type": "code",
   "outputs": [],
   "source": [
    "with open(BeerAdvocate_path(clean_path) + \"/usa_ratings.csv\", \"w\") as f:\n",
    "    us_ratings_ba.to_csv(f, index=False)\n",
    "    \n",
    "del ratings_ba\n",
    "del us_ratings_ba\n",
    "del users_ba\n",
    "del us_users_ba"
   ],
   "metadata": {
    "collapsed": false,
    "ExecuteTime": {
     "end_time": "2024-11-13T21:20:29.864092Z",
     "start_time": "2024-11-13T21:19:20.518407Z"
    }
   },
   "id": "c4e62ff67c51dfcc",
   "execution_count": 9
  },
  {
   "cell_type": "markdown",
   "source": [
    "### Clean BeerAdvocate beers.csv\n",
    "\n",
    "- Extract nans\n",
    "- replace common encoding errors"
   ],
   "metadata": {
    "collapsed": false
   },
   "id": "e1e446980df215bc"
  },
  {
   "cell_type": "code",
   "outputs": [],
   "source": [
    "beer_ba = pd.read_csv(BeerAdvocate_path(data_path)+ \"/BeerAdvocate_beers.csv\")"
   ],
   "metadata": {
    "collapsed": false,
    "ExecuteTime": {
     "end_time": "2024-11-13T21:21:58.946154Z",
     "start_time": "2024-11-13T21:21:58.567230Z"
    }
   },
   "id": "ead7bc2e22203f09",
   "execution_count": 11
  },
  {
   "cell_type": "code",
   "outputs": [],
   "source": [
    "extract_nans_as_columns_df(beer_ba, numerical_columns(beer_ba), replace_value=0)\n",
    "extract_nans_as_columns_df(beer_ba, string_columns(beer_ba), replace_value=\"\")\n",
    "beer_ba = replace_common_enc_errors(beer_ba)"
   ],
   "metadata": {
    "collapsed": false,
    "ExecuteTime": {
     "end_time": "2024-11-13T21:22:17.183242Z",
     "start_time": "2024-11-13T21:22:16.536935Z"
    }
   },
   "id": "5a49cef75ca3bde8",
   "execution_count": 13
  },
  {
   "cell_type": "code",
   "outputs": [],
   "source": [
    "with open(BeerAdvocate_path(clean_path) + \"/beers.csv\", \"w\") as f:\n",
    "    beer_ba.to_csv(f, index=False)\n",
    "    \n",
    "del beer_ba"
   ],
   "metadata": {
    "collapsed": false,
    "ExecuteTime": {
     "end_time": "2024-11-13T21:22:19.236802Z",
     "start_time": "2024-11-13T21:22:17.808946Z"
    }
   },
   "id": "64bc7f254e228e7e",
   "execution_count": 14
  },
  {
   "cell_type": "markdown",
   "source": [
    "### Clean BeerAdvocate breweries.csv"
   ],
   "metadata": {
    "collapsed": false
   },
   "id": "12790eaa6f9f92fb"
  },
  {
   "cell_type": "code",
   "outputs": [],
   "source": [
    "brewery_ba = pd.read_csv(BeerAdvocate_path(data_path) + \"/BeerAdvocate_breweries.csv\")"
   ],
   "metadata": {
    "collapsed": false,
    "ExecuteTime": {
     "end_time": "2024-11-13T21:22:25.324053Z",
     "start_time": "2024-11-13T21:22:25.309755Z"
    }
   },
   "id": "8642ed9274e27f62",
   "execution_count": 15
  },
  {
   "cell_type": "code",
   "outputs": [],
   "source": [
    "with open(BeerAdvocate_path(clean_path) + \"/breweries.csv\", \"w\") as f:\n",
    "    brewery_ba.to_csv(f, index=False)"
   ],
   "metadata": {
    "collapsed": false,
    "ExecuteTime": {
     "end_time": "2024-11-13T21:22:26.072119Z",
     "start_time": "2024-11-13T21:22:26.043817Z"
    }
   },
   "id": "dd46dfec788ca871",
   "execution_count": 16
  },
  {
   "cell_type": "markdown",
   "source": [
    "## Clean Ratebeer data"
   ],
   "metadata": {
    "collapsed": false
   },
   "id": "1246b0ff981a2e73"
  },
  {
   "cell_type": "code",
   "outputs": [],
   "source": [
    "users_rb = pd.read_csv(Ratebeer_path(data_path) + \"/Ratebeer_users.csv\")"
   ],
   "metadata": {
    "collapsed": false,
    "ExecuteTime": {
     "end_time": "2024-11-13T21:22:31.021541Z",
     "start_time": "2024-11-13T21:22:30.964447Z"
    }
   },
   "id": "31ebde941de6d1f7",
   "execution_count": 17
  },
  {
   "cell_type": "markdown",
   "source": [
    "### Clean Ratebeer users.csv"
   ],
   "metadata": {
    "collapsed": false
   },
   "id": "9db37eb37b1c43bf"
  },
  {
   "cell_type": "code",
   "outputs": [],
   "source": [
    "us_users_rb = filter_only_americans(users_rb.dropna(subset=[\"user_name\", \"location\", \"joined\"]))\n",
    "os.makedirs(Ratebeer_path(clean_path), exist_ok=True)\n",
    "with open(Ratebeer_path(clean_path) + \"/usa_users.csv\", \"w\") as f:\n",
    "    us_users_rb.to_csv(f, index=False)"
   ],
   "metadata": {
    "collapsed": false,
    "ExecuteTime": {
     "end_time": "2024-11-13T21:22:31.976039Z",
     "start_time": "2024-11-13T21:22:31.904322Z"
    }
   },
   "id": "5715ab12820ca5a0",
   "execution_count": 18
  },
  {
   "cell_type": "markdown",
   "source": [
    "### Clean Ratebeer ratings.csv"
   ],
   "metadata": {
    "collapsed": false
   },
   "id": "1f0ca9133202ad83"
  },
  {
   "cell_type": "code",
   "outputs": [],
   "source": [
    "ratings_rb = pd.read_csv(Ratebeer_path(data_path) + \"/Ratebeer_ratings.csv\")"
   ],
   "metadata": {
    "collapsed": false,
    "ExecuteTime": {
     "end_time": "2024-11-13T21:23:14.101197Z",
     "start_time": "2024-11-13T21:22:43.542480Z"
    }
   },
   "id": "3270d10362404605",
   "execution_count": 19
  },
  {
   "cell_type": "code",
   "outputs": [
    {
     "name": "stderr",
     "output_type": "stream",
     "text": [
      "/var/folders/_b/w9s75zbd5tsf70gz6vs4nshh0000gn/T/ipykernel_54915/3965183988.py:50: FutureWarning: ChainedAssignmentError: behaviour will change in pandas 3.0!\n",
      "You are setting values through chained assignment. Currently this works in certain cases, but when using Copy-on-Write (which will become the default behaviour in pandas 3.0) this will never work to update the original DataFrame or Series, because the intermediate object on which we are setting values will behave as a copy.\n",
      "A typical example is when you are setting values in a column of a DataFrame, like:\n",
      "\n",
      "df[\"col\"][row_indexer] = value\n",
      "\n",
      "Use `df.loc[row_indexer, \"col\"] = values` instead, to perform the assignment in a single step and ensure this keeps updating the original `df`.\n",
      "\n",
      "See the caveats in the documentation: https://pandas.pydata.org/pandas-docs/stable/user_guide/indexing.html#returning-a-view-versus-a-copy\n",
      "\n",
      "  df[column_name][is_nan] = replace_value\n",
      "/var/folders/_b/w9s75zbd5tsf70gz6vs4nshh0000gn/T/ipykernel_54915/3965183988.py:50: SettingWithCopyWarning: \n",
      "A value is trying to be set on a copy of a slice from a DataFrame\n",
      "\n",
      "See the caveats in the documentation: https://pandas.pydata.org/pandas-docs/stable/user_guide/indexing.html#returning-a-view-versus-a-copy\n",
      "  df[column_name][is_nan] = replace_value\n",
      "/var/folders/_b/w9s75zbd5tsf70gz6vs4nshh0000gn/T/ipykernel_54915/3965183988.py:50: FutureWarning: ChainedAssignmentError: behaviour will change in pandas 3.0!\n",
      "You are setting values through chained assignment. Currently this works in certain cases, but when using Copy-on-Write (which will become the default behaviour in pandas 3.0) this will never work to update the original DataFrame or Series, because the intermediate object on which we are setting values will behave as a copy.\n",
      "A typical example is when you are setting values in a column of a DataFrame, like:\n",
      "\n",
      "df[\"col\"][row_indexer] = value\n",
      "\n",
      "Use `df.loc[row_indexer, \"col\"] = values` instead, to perform the assignment in a single step and ensure this keeps updating the original `df`.\n",
      "\n",
      "See the caveats in the documentation: https://pandas.pydata.org/pandas-docs/stable/user_guide/indexing.html#returning-a-view-versus-a-copy\n",
      "\n",
      "  df[column_name][is_nan] = replace_value\n",
      "/var/folders/_b/w9s75zbd5tsf70gz6vs4nshh0000gn/T/ipykernel_54915/3965183988.py:50: SettingWithCopyWarning: \n",
      "A value is trying to be set on a copy of a slice from a DataFrame\n",
      "\n",
      "See the caveats in the documentation: https://pandas.pydata.org/pandas-docs/stable/user_guide/indexing.html#returning-a-view-versus-a-copy\n",
      "  df[column_name][is_nan] = replace_value\n"
     ]
    }
   ],
   "source": [
    "ratings_rb = ratings_rb.dropna(subset=[\"user_id\", \"beer_id\"])\n",
    "ratings_rb = clean_ratings(ratings_rb)\n",
    "us_ratings_rb = filter_by_users(ratings_rb, us_users_rb)"
   ],
   "metadata": {
    "collapsed": false,
    "ExecuteTime": {
     "end_time": "2024-11-13T21:28:33.240744Z",
     "start_time": "2024-11-13T21:25:49.460235Z"
    }
   },
   "id": "c508a315332836b1",
   "execution_count": 22
  },
  {
   "cell_type": "code",
   "outputs": [
    {
     "ename": "NameError",
     "evalue": "name 'us_users_ba' is not defined",
     "output_type": "error",
     "traceback": [
      "\u001B[0;31m---------------------------------------------------------------------------\u001B[0m",
      "\u001B[0;31mNameError\u001B[0m                                 Traceback (most recent call last)",
      "Cell \u001B[0;32mIn[23], line 7\u001B[0m\n\u001B[1;32m      5\u001B[0m \u001B[38;5;28;01mdel\u001B[39;00m us_ratings_rb\n\u001B[1;32m      6\u001B[0m \u001B[38;5;28;01mdel\u001B[39;00m users_rb\n\u001B[0;32m----> 7\u001B[0m \u001B[38;5;28;01mdel\u001B[39;00m us_users_ba\n",
      "\u001B[0;31mNameError\u001B[0m: name 'us_users_ba' is not defined"
     ]
    }
   ],
   "source": [
    "with open(Ratebeer_path(clean_path) + \"/usa_ratings.csv\", \"w\") as f:\n",
    "    us_ratings_rb.to_csv(f, index=False)\n",
    "    \n",
    "del ratings_rb\n",
    "del us_ratings_rb\n",
    "del users_rb\n",
    "del us_users_rb"
   ],
   "metadata": {
    "collapsed": false,
    "ExecuteTime": {
     "end_time": "2024-11-13T21:29:20.859390Z",
     "start_time": "2024-11-13T21:28:33.293229Z"
    }
   },
   "id": "10a2d67cc5a33400",
   "execution_count": 23
  },
  {
   "cell_type": "markdown",
   "source": [
    "### Clean Ratebeer beers.csv"
   ],
   "metadata": {
    "collapsed": false
   },
   "id": "8fcfe2a99dd4ff26"
  },
  {
   "cell_type": "code",
   "outputs": [],
   "source": [
    "beer_rb = pd.read_csv(Ratebeer_path(data_path) + \"/Ratebeer_beers.csv\")"
   ],
   "metadata": {
    "collapsed": false,
    "ExecuteTime": {
     "end_time": "2024-11-13T21:30:00.001246Z",
     "start_time": "2024-11-13T21:29:59.325471Z"
    }
   },
   "id": "7c388359bb2a7ce7",
   "execution_count": 25
  },
  {
   "cell_type": "code",
   "outputs": [
    {
     "name": "stderr",
     "output_type": "stream",
     "text": [
      "/var/folders/_b/w9s75zbd5tsf70gz6vs4nshh0000gn/T/ipykernel_54915/3965183988.py:50: FutureWarning: ChainedAssignmentError: behaviour will change in pandas 3.0!\n",
      "You are setting values through chained assignment. Currently this works in certain cases, but when using Copy-on-Write (which will become the default behaviour in pandas 3.0) this will never work to update the original DataFrame or Series, because the intermediate object on which we are setting values will behave as a copy.\n",
      "A typical example is when you are setting values in a column of a DataFrame, like:\n",
      "\n",
      "df[\"col\"][row_indexer] = value\n",
      "\n",
      "Use `df.loc[row_indexer, \"col\"] = values` instead, to perform the assignment in a single step and ensure this keeps updating the original `df`.\n",
      "\n",
      "See the caveats in the documentation: https://pandas.pydata.org/pandas-docs/stable/user_guide/indexing.html#returning-a-view-versus-a-copy\n",
      "\n",
      "  df[column_name][is_nan] = replace_value\n",
      "/var/folders/_b/w9s75zbd5tsf70gz6vs4nshh0000gn/T/ipykernel_54915/3965183988.py:50: SettingWithCopyWarning: \n",
      "A value is trying to be set on a copy of a slice from a DataFrame\n",
      "\n",
      "See the caveats in the documentation: https://pandas.pydata.org/pandas-docs/stable/user_guide/indexing.html#returning-a-view-versus-a-copy\n",
      "  df[column_name][is_nan] = replace_value\n",
      "/var/folders/_b/w9s75zbd5tsf70gz6vs4nshh0000gn/T/ipykernel_54915/3965183988.py:50: FutureWarning: ChainedAssignmentError: behaviour will change in pandas 3.0!\n",
      "You are setting values through chained assignment. Currently this works in certain cases, but when using Copy-on-Write (which will become the default behaviour in pandas 3.0) this will never work to update the original DataFrame or Series, because the intermediate object on which we are setting values will behave as a copy.\n",
      "A typical example is when you are setting values in a column of a DataFrame, like:\n",
      "\n",
      "df[\"col\"][row_indexer] = value\n",
      "\n",
      "Use `df.loc[row_indexer, \"col\"] = values` instead, to perform the assignment in a single step and ensure this keeps updating the original `df`.\n",
      "\n",
      "See the caveats in the documentation: https://pandas.pydata.org/pandas-docs/stable/user_guide/indexing.html#returning-a-view-versus-a-copy\n",
      "\n",
      "  df[column_name][is_nan] = replace_value\n",
      "/var/folders/_b/w9s75zbd5tsf70gz6vs4nshh0000gn/T/ipykernel_54915/3965183988.py:50: SettingWithCopyWarning: \n",
      "A value is trying to be set on a copy of a slice from a DataFrame\n",
      "\n",
      "See the caveats in the documentation: https://pandas.pydata.org/pandas-docs/stable/user_guide/indexing.html#returning-a-view-versus-a-copy\n",
      "  df[column_name][is_nan] = replace_value\n",
      "/var/folders/_b/w9s75zbd5tsf70gz6vs4nshh0000gn/T/ipykernel_54915/3965183988.py:50: FutureWarning: ChainedAssignmentError: behaviour will change in pandas 3.0!\n",
      "You are setting values through chained assignment. Currently this works in certain cases, but when using Copy-on-Write (which will become the default behaviour in pandas 3.0) this will never work to update the original DataFrame or Series, because the intermediate object on which we are setting values will behave as a copy.\n",
      "A typical example is when you are setting values in a column of a DataFrame, like:\n",
      "\n",
      "df[\"col\"][row_indexer] = value\n",
      "\n",
      "Use `df.loc[row_indexer, \"col\"] = values` instead, to perform the assignment in a single step and ensure this keeps updating the original `df`.\n",
      "\n",
      "See the caveats in the documentation: https://pandas.pydata.org/pandas-docs/stable/user_guide/indexing.html#returning-a-view-versus-a-copy\n",
      "\n",
      "  df[column_name][is_nan] = replace_value\n",
      "/var/folders/_b/w9s75zbd5tsf70gz6vs4nshh0000gn/T/ipykernel_54915/3965183988.py:50: SettingWithCopyWarning: \n",
      "A value is trying to be set on a copy of a slice from a DataFrame\n",
      "\n",
      "See the caveats in the documentation: https://pandas.pydata.org/pandas-docs/stable/user_guide/indexing.html#returning-a-view-versus-a-copy\n",
      "  df[column_name][is_nan] = replace_value\n",
      "/var/folders/_b/w9s75zbd5tsf70gz6vs4nshh0000gn/T/ipykernel_54915/3965183988.py:50: FutureWarning: ChainedAssignmentError: behaviour will change in pandas 3.0!\n",
      "You are setting values through chained assignment. Currently this works in certain cases, but when using Copy-on-Write (which will become the default behaviour in pandas 3.0) this will never work to update the original DataFrame or Series, because the intermediate object on which we are setting values will behave as a copy.\n",
      "A typical example is when you are setting values in a column of a DataFrame, like:\n",
      "\n",
      "df[\"col\"][row_indexer] = value\n",
      "\n",
      "Use `df.loc[row_indexer, \"col\"] = values` instead, to perform the assignment in a single step and ensure this keeps updating the original `df`.\n",
      "\n",
      "See the caveats in the documentation: https://pandas.pydata.org/pandas-docs/stable/user_guide/indexing.html#returning-a-view-versus-a-copy\n",
      "\n",
      "  df[column_name][is_nan] = replace_value\n",
      "/var/folders/_b/w9s75zbd5tsf70gz6vs4nshh0000gn/T/ipykernel_54915/3965183988.py:50: SettingWithCopyWarning: \n",
      "A value is trying to be set on a copy of a slice from a DataFrame\n",
      "\n",
      "See the caveats in the documentation: https://pandas.pydata.org/pandas-docs/stable/user_guide/indexing.html#returning-a-view-versus-a-copy\n",
      "  df[column_name][is_nan] = replace_value\n",
      "/var/folders/_b/w9s75zbd5tsf70gz6vs4nshh0000gn/T/ipykernel_54915/3965183988.py:50: FutureWarning: ChainedAssignmentError: behaviour will change in pandas 3.0!\n",
      "You are setting values through chained assignment. Currently this works in certain cases, but when using Copy-on-Write (which will become the default behaviour in pandas 3.0) this will never work to update the original DataFrame or Series, because the intermediate object on which we are setting values will behave as a copy.\n",
      "A typical example is when you are setting values in a column of a DataFrame, like:\n",
      "\n",
      "df[\"col\"][row_indexer] = value\n",
      "\n",
      "Use `df.loc[row_indexer, \"col\"] = values` instead, to perform the assignment in a single step and ensure this keeps updating the original `df`.\n",
      "\n",
      "See the caveats in the documentation: https://pandas.pydata.org/pandas-docs/stable/user_guide/indexing.html#returning-a-view-versus-a-copy\n",
      "\n",
      "  df[column_name][is_nan] = replace_value\n",
      "/var/folders/_b/w9s75zbd5tsf70gz6vs4nshh0000gn/T/ipykernel_54915/3965183988.py:50: SettingWithCopyWarning: \n",
      "A value is trying to be set on a copy of a slice from a DataFrame\n",
      "\n",
      "See the caveats in the documentation: https://pandas.pydata.org/pandas-docs/stable/user_guide/indexing.html#returning-a-view-versus-a-copy\n",
      "  df[column_name][is_nan] = replace_value\n",
      "/var/folders/_b/w9s75zbd5tsf70gz6vs4nshh0000gn/T/ipykernel_54915/3965183988.py:50: FutureWarning: ChainedAssignmentError: behaviour will change in pandas 3.0!\n",
      "You are setting values through chained assignment. Currently this works in certain cases, but when using Copy-on-Write (which will become the default behaviour in pandas 3.0) this will never work to update the original DataFrame or Series, because the intermediate object on which we are setting values will behave as a copy.\n",
      "A typical example is when you are setting values in a column of a DataFrame, like:\n",
      "\n",
      "df[\"col\"][row_indexer] = value\n",
      "\n",
      "Use `df.loc[row_indexer, \"col\"] = values` instead, to perform the assignment in a single step and ensure this keeps updating the original `df`.\n",
      "\n",
      "See the caveats in the documentation: https://pandas.pydata.org/pandas-docs/stable/user_guide/indexing.html#returning-a-view-versus-a-copy\n",
      "\n",
      "  df[column_name][is_nan] = replace_value\n",
      "/var/folders/_b/w9s75zbd5tsf70gz6vs4nshh0000gn/T/ipykernel_54915/3965183988.py:50: SettingWithCopyWarning: \n",
      "A value is trying to be set on a copy of a slice from a DataFrame\n",
      "\n",
      "See the caveats in the documentation: https://pandas.pydata.org/pandas-docs/stable/user_guide/indexing.html#returning-a-view-versus-a-copy\n",
      "  df[column_name][is_nan] = replace_value\n",
      "/var/folders/_b/w9s75zbd5tsf70gz6vs4nshh0000gn/T/ipykernel_54915/3965183988.py:50: FutureWarning: ChainedAssignmentError: behaviour will change in pandas 3.0!\n",
      "You are setting values through chained assignment. Currently this works in certain cases, but when using Copy-on-Write (which will become the default behaviour in pandas 3.0) this will never work to update the original DataFrame or Series, because the intermediate object on which we are setting values will behave as a copy.\n",
      "A typical example is when you are setting values in a column of a DataFrame, like:\n",
      "\n",
      "df[\"col\"][row_indexer] = value\n",
      "\n",
      "Use `df.loc[row_indexer, \"col\"] = values` instead, to perform the assignment in a single step and ensure this keeps updating the original `df`.\n",
      "\n",
      "See the caveats in the documentation: https://pandas.pydata.org/pandas-docs/stable/user_guide/indexing.html#returning-a-view-versus-a-copy\n",
      "\n",
      "  df[column_name][is_nan] = replace_value\n",
      "/var/folders/_b/w9s75zbd5tsf70gz6vs4nshh0000gn/T/ipykernel_54915/3965183988.py:50: SettingWithCopyWarning: \n",
      "A value is trying to be set on a copy of a slice from a DataFrame\n",
      "\n",
      "See the caveats in the documentation: https://pandas.pydata.org/pandas-docs/stable/user_guide/indexing.html#returning-a-view-versus-a-copy\n",
      "  df[column_name][is_nan] = replace_value\n"
     ]
    },
    {
     "data": {
      "text/plain": "        Unnamed: 0  beer_id               beer_name  brewery_id  \\\n0                0   410549       33 Export (Gabon)        3198   \n1                1   105273     Castel Beer (Gabon)        3198   \n2                2    19445                   Régab        3198   \n3                3   155699  Ards Bally Black Stout       13538   \n4                4   239097        Ards Belfast 366       13538   \n...            ...      ...                     ...         ...   \n442076      442076   189684           Stela Selekt         1107   \n442077      442077    84884   Hotel Martini Donauer        9355   \n442078      442078    93783            Birra Rozafa        9928   \n442079      442079   220897            Svejk Blonde       17155   \n442080      442080   220898              Svejk Dark       17155   \n\n             brewery_name                 style  nbr_ratings  overall_score  \\\n0                 Sobraga            Pale Lager            1            0.0   \n1                 Sobraga            Pale Lager           10            5.0   \n2                 Sobraga            Pale Lager           27            1.0   \n3        Ards Brewing Co.                 Stout            6            0.0   \n4        Ards Brewing Co.  Golden Ale/Blond Ale            1            0.0   \n...                   ...                   ...          ...            ...   \n442076       Stefani & Co              Pilsener            5            0.0   \n442077      Hotel Martini            Pale Lager            1            0.0   \n442078     Rozafa Brewery            Pale Lager            1            0.0   \n442079  Svejk Beer Garden            Pale Lager            4            0.0   \n442080  Svejk Beer Garden          Dunkel/Tmavý            3            0.0   \n\n        style_score   avg  ...    zscore  nbr_matched_valid_ratings  \\\n0               0.0  2.72  ...  0.000000                          0   \n1              58.0  2.18  ...  0.000000                          0   \n2              22.0  1.83  ...  0.000000                          0   \n3               0.0  3.18  ...  0.823699                          6   \n4               0.0  2.79  ...  0.000000                          0   \n...             ...   ...  ...       ...                        ...   \n442076          0.0  2.19  ...  0.000000                          0   \n442077          0.0  2.77  ...  0.000000                          0   \n442078          0.0  2.64  ...  0.000000                          0   \n442079          0.0  2.70  ...  0.000000                          0   \n442080          0.0  2.55  ...  0.000000                          0   \n\n        avg_matched_valid_ratings  overall_score_nan  style_score_nan  \\\n0                        0.000000                  1                1   \n1                        0.000000                  0                0   \n2                        0.000000                  0                0   \n3                        3.866667                  1                1   \n4                        0.000000                  1                1   \n...                           ...                ...              ...   \n442076                   0.000000                  1                1   \n442077                   0.000000                  1                1   \n442078                   0.000000                  1                1   \n442079                   0.000000                  1                1   \n442080                   0.000000                  1                1   \n\n        avg_nan  abv_nan  avg_computed_nan  zscore_nan  \\\n0             0        0                 0           1   \n1             0        0                 0           1   \n2             0        0                 0           1   \n3             0        0                 0           0   \n4             0        0                 0           1   \n...         ...      ...               ...         ...   \n442076        0        0                 0           1   \n442077        0        1                 0           1   \n442078        0        1                 0           1   \n442079        0        1                 0           1   \n442080        0        1                 0           1   \n\n        avg_matched_valid_ratings_nan  \n0                                   1  \n1                                   1  \n2                                   1  \n3                                   0  \n4                                   1  \n...                               ...  \n442076                              1  \n442077                              1  \n442078                              1  \n442079                              1  \n442080                              1  \n\n[442081 rows x 22 columns]",
      "text/html": "<div>\n<style scoped>\n    .dataframe tbody tr th:only-of-type {\n        vertical-align: middle;\n    }\n\n    .dataframe tbody tr th {\n        vertical-align: top;\n    }\n\n    .dataframe thead th {\n        text-align: right;\n    }\n</style>\n<table border=\"1\" class=\"dataframe\">\n  <thead>\n    <tr style=\"text-align: right;\">\n      <th></th>\n      <th>Unnamed: 0</th>\n      <th>beer_id</th>\n      <th>beer_name</th>\n      <th>brewery_id</th>\n      <th>brewery_name</th>\n      <th>style</th>\n      <th>nbr_ratings</th>\n      <th>overall_score</th>\n      <th>style_score</th>\n      <th>avg</th>\n      <th>...</th>\n      <th>zscore</th>\n      <th>nbr_matched_valid_ratings</th>\n      <th>avg_matched_valid_ratings</th>\n      <th>overall_score_nan</th>\n      <th>style_score_nan</th>\n      <th>avg_nan</th>\n      <th>abv_nan</th>\n      <th>avg_computed_nan</th>\n      <th>zscore_nan</th>\n      <th>avg_matched_valid_ratings_nan</th>\n    </tr>\n  </thead>\n  <tbody>\n    <tr>\n      <th>0</th>\n      <td>0</td>\n      <td>410549</td>\n      <td>33 Export (Gabon)</td>\n      <td>3198</td>\n      <td>Sobraga</td>\n      <td>Pale Lager</td>\n      <td>1</td>\n      <td>0.0</td>\n      <td>0.0</td>\n      <td>2.72</td>\n      <td>...</td>\n      <td>0.000000</td>\n      <td>0</td>\n      <td>0.000000</td>\n      <td>1</td>\n      <td>1</td>\n      <td>0</td>\n      <td>0</td>\n      <td>0</td>\n      <td>1</td>\n      <td>1</td>\n    </tr>\n    <tr>\n      <th>1</th>\n      <td>1</td>\n      <td>105273</td>\n      <td>Castel Beer (Gabon)</td>\n      <td>3198</td>\n      <td>Sobraga</td>\n      <td>Pale Lager</td>\n      <td>10</td>\n      <td>5.0</td>\n      <td>58.0</td>\n      <td>2.18</td>\n      <td>...</td>\n      <td>0.000000</td>\n      <td>0</td>\n      <td>0.000000</td>\n      <td>0</td>\n      <td>0</td>\n      <td>0</td>\n      <td>0</td>\n      <td>0</td>\n      <td>1</td>\n      <td>1</td>\n    </tr>\n    <tr>\n      <th>2</th>\n      <td>2</td>\n      <td>19445</td>\n      <td>Régab</td>\n      <td>3198</td>\n      <td>Sobraga</td>\n      <td>Pale Lager</td>\n      <td>27</td>\n      <td>1.0</td>\n      <td>22.0</td>\n      <td>1.83</td>\n      <td>...</td>\n      <td>0.000000</td>\n      <td>0</td>\n      <td>0.000000</td>\n      <td>0</td>\n      <td>0</td>\n      <td>0</td>\n      <td>0</td>\n      <td>0</td>\n      <td>1</td>\n      <td>1</td>\n    </tr>\n    <tr>\n      <th>3</th>\n      <td>3</td>\n      <td>155699</td>\n      <td>Ards Bally Black Stout</td>\n      <td>13538</td>\n      <td>Ards Brewing Co.</td>\n      <td>Stout</td>\n      <td>6</td>\n      <td>0.0</td>\n      <td>0.0</td>\n      <td>3.18</td>\n      <td>...</td>\n      <td>0.823699</td>\n      <td>6</td>\n      <td>3.866667</td>\n      <td>1</td>\n      <td>1</td>\n      <td>0</td>\n      <td>0</td>\n      <td>0</td>\n      <td>0</td>\n      <td>0</td>\n    </tr>\n    <tr>\n      <th>4</th>\n      <td>4</td>\n      <td>239097</td>\n      <td>Ards Belfast 366</td>\n      <td>13538</td>\n      <td>Ards Brewing Co.</td>\n      <td>Golden Ale/Blond Ale</td>\n      <td>1</td>\n      <td>0.0</td>\n      <td>0.0</td>\n      <td>2.79</td>\n      <td>...</td>\n      <td>0.000000</td>\n      <td>0</td>\n      <td>0.000000</td>\n      <td>1</td>\n      <td>1</td>\n      <td>0</td>\n      <td>0</td>\n      <td>0</td>\n      <td>1</td>\n      <td>1</td>\n    </tr>\n    <tr>\n      <th>...</th>\n      <td>...</td>\n      <td>...</td>\n      <td>...</td>\n      <td>...</td>\n      <td>...</td>\n      <td>...</td>\n      <td>...</td>\n      <td>...</td>\n      <td>...</td>\n      <td>...</td>\n      <td>...</td>\n      <td>...</td>\n      <td>...</td>\n      <td>...</td>\n      <td>...</td>\n      <td>...</td>\n      <td>...</td>\n      <td>...</td>\n      <td>...</td>\n      <td>...</td>\n      <td>...</td>\n    </tr>\n    <tr>\n      <th>442076</th>\n      <td>442076</td>\n      <td>189684</td>\n      <td>Stela Selekt</td>\n      <td>1107</td>\n      <td>Stefani &amp; Co</td>\n      <td>Pilsener</td>\n      <td>5</td>\n      <td>0.0</td>\n      <td>0.0</td>\n      <td>2.19</td>\n      <td>...</td>\n      <td>0.000000</td>\n      <td>0</td>\n      <td>0.000000</td>\n      <td>1</td>\n      <td>1</td>\n      <td>0</td>\n      <td>0</td>\n      <td>0</td>\n      <td>1</td>\n      <td>1</td>\n    </tr>\n    <tr>\n      <th>442077</th>\n      <td>442077</td>\n      <td>84884</td>\n      <td>Hotel Martini Donauer</td>\n      <td>9355</td>\n      <td>Hotel Martini</td>\n      <td>Pale Lager</td>\n      <td>1</td>\n      <td>0.0</td>\n      <td>0.0</td>\n      <td>2.77</td>\n      <td>...</td>\n      <td>0.000000</td>\n      <td>0</td>\n      <td>0.000000</td>\n      <td>1</td>\n      <td>1</td>\n      <td>0</td>\n      <td>1</td>\n      <td>0</td>\n      <td>1</td>\n      <td>1</td>\n    </tr>\n    <tr>\n      <th>442078</th>\n      <td>442078</td>\n      <td>93783</td>\n      <td>Birra Rozafa</td>\n      <td>9928</td>\n      <td>Rozafa Brewery</td>\n      <td>Pale Lager</td>\n      <td>1</td>\n      <td>0.0</td>\n      <td>0.0</td>\n      <td>2.64</td>\n      <td>...</td>\n      <td>0.000000</td>\n      <td>0</td>\n      <td>0.000000</td>\n      <td>1</td>\n      <td>1</td>\n      <td>0</td>\n      <td>1</td>\n      <td>0</td>\n      <td>1</td>\n      <td>1</td>\n    </tr>\n    <tr>\n      <th>442079</th>\n      <td>442079</td>\n      <td>220897</td>\n      <td>Svejk Blonde</td>\n      <td>17155</td>\n      <td>Svejk Beer Garden</td>\n      <td>Pale Lager</td>\n      <td>4</td>\n      <td>0.0</td>\n      <td>0.0</td>\n      <td>2.70</td>\n      <td>...</td>\n      <td>0.000000</td>\n      <td>0</td>\n      <td>0.000000</td>\n      <td>1</td>\n      <td>1</td>\n      <td>0</td>\n      <td>1</td>\n      <td>0</td>\n      <td>1</td>\n      <td>1</td>\n    </tr>\n    <tr>\n      <th>442080</th>\n      <td>442080</td>\n      <td>220898</td>\n      <td>Svejk Dark</td>\n      <td>17155</td>\n      <td>Svejk Beer Garden</td>\n      <td>Dunkel/Tmavý</td>\n      <td>3</td>\n      <td>0.0</td>\n      <td>0.0</td>\n      <td>2.55</td>\n      <td>...</td>\n      <td>0.000000</td>\n      <td>0</td>\n      <td>0.000000</td>\n      <td>1</td>\n      <td>1</td>\n      <td>0</td>\n      <td>1</td>\n      <td>0</td>\n      <td>1</td>\n      <td>1</td>\n    </tr>\n  </tbody>\n</table>\n<p>442081 rows × 22 columns</p>\n</div>"
     },
     "execution_count": 26,
     "metadata": {},
     "output_type": "execute_result"
    }
   ],
   "source": [
    "extract_nans_as_columns_df(beer_rb, numerical_columns(beer_rb), replace_value=0)\n",
    "extract_nans_as_columns_df(beer_rb, string_columns(beer_rb), replace_value=\"\")\n",
    "replace_common_enc_errors(beer_rb)"
   ],
   "metadata": {
    "collapsed": false,
    "ExecuteTime": {
     "end_time": "2024-11-13T21:30:01.522369Z",
     "start_time": "2024-11-13T21:30:00.246868Z"
    }
   },
   "id": "bb712a01a5d2380c",
   "execution_count": 26
  },
  {
   "cell_type": "code",
   "outputs": [],
   "source": [
    "with open(Ratebeer_path(clean_path) + \"/beers.csv\", \"w\") as f:\n",
    "    beer_rb.to_csv(f, index=False)\n",
    "    \n",
    "del beer_rb"
   ],
   "metadata": {
    "collapsed": false,
    "ExecuteTime": {
     "end_time": "2024-11-13T21:30:03.805036Z",
     "start_time": "2024-11-13T21:30:01.525601Z"
    }
   },
   "id": "4ba35daed2837b14",
   "execution_count": 27
  },
  {
   "cell_type": "markdown",
   "source": [
    "### Clean Ratebeer breweries.csv\n",
    "- No work needed"
   ],
   "metadata": {
    "collapsed": false
   },
   "id": "7d3c86aa2d77a2d9"
  },
  {
   "cell_type": "code",
   "outputs": [],
   "source": [
    "brewery_rb = pd.read_csv(Ratebeer_path(data_path) + \"/Ratebeer_breweries.csv\")\n",
    "with open(Ratebeer_path(clean_path) + \"/breweries.csv\", \"w\") as f:\n",
    "    brewery_rb.to_csv(f, index=False)"
   ],
   "metadata": {
    "collapsed": false,
    "ExecuteTime": {
     "end_time": "2024-11-13T21:30:03.849123Z",
     "start_time": "2024-11-13T21:30:03.805899Z"
    }
   },
   "id": "2e31e80536e80503",
   "execution_count": 28
  },
  {
   "cell_type": "markdown",
   "source": [
    "## Clean Matched data"
   ],
   "metadata": {
    "collapsed": false
   },
   "id": "fbce1817b03ec6cc"
  },
  {
   "cell_type": "code",
   "outputs": [],
   "source": [
    "users = pd.read_csv(Matched_path(data_path) + \"/matched_beer_data_users.csv\", low_memory=False)\n",
    "ratings = pd.read_csv(Matched_path(data_path) + \"/matched_beer_data_ratings.csv\", low_memory=False)\n",
    "beers = pd.read_csv(Matched_path(data_path) + \"/matched_beer_data_beers.csv\", low_memory=False)\n",
    "breweries = pd.read_csv(Matched_path(data_path) + \"/matched_beer_data_breweries.csv\", low_memory=False)\n",
    "users_approx = pd.read_csv(Matched_path(data_path) + \"/matched_beer_data_users_approx.csv\", low_memory=False)"
   ],
   "metadata": {
    "collapsed": false,
    "ExecuteTime": {
     "end_time": "2024-11-13T21:30:04.367562Z",
     "start_time": "2024-11-13T21:30:03.849686Z"
    }
   },
   "id": "28cf4c4b180dbd34",
   "execution_count": 29
  },
  {
   "cell_type": "markdown",
   "source": [
    "### Clean Matched users"
   ],
   "metadata": {
    "collapsed": false
   },
   "id": "73a29e3d0b773aa3"
  },
  {
   "cell_type": "code",
   "outputs": [
    {
     "name": "stderr",
     "output_type": "stream",
     "text": [
      "/var/folders/_b/w9s75zbd5tsf70gz6vs4nshh0000gn/T/ipykernel_54915/3965183988.py:102: FutureWarning: errors='ignore' is deprecated and will raise in a future version. Use to_numeric without passing `errors` and catch exceptions explicitly instead\n",
      "  df = df.apply(pd.to_numeric, errors='ignore')\n"
     ]
    }
   ],
   "source": [
    "users = clean_matched_data(users)\n",
    "us_states = users[users[\"ba_location\"].str.contains(\",\")][\"ba_location\"].unique()\n",
    "us_users = users[users[\"ba_location\"].isin(us_states)]\n"
   ],
   "metadata": {
    "collapsed": false,
    "ExecuteTime": {
     "end_time": "2024-11-13T21:30:04.383400Z",
     "start_time": "2024-11-13T21:30:04.368721Z"
    }
   },
   "id": "ce544694ba679167",
   "execution_count": 30
  },
  {
   "cell_type": "code",
   "outputs": [],
   "source": [
    "os.makedirs(Matched_path(clean_path), exist_ok=True)\n",
    "with open(Matched_path(clean_path) + \"/usa_users.csv\", \"w\") as f:\n",
    "    us_users.to_csv(f, index=False)"
   ],
   "metadata": {
    "collapsed": false,
    "ExecuteTime": {
     "end_time": "2024-11-13T21:30:04.399717Z",
     "start_time": "2024-11-13T21:30:04.389377Z"
    }
   },
   "id": "6435f175defd354b",
   "execution_count": 31
  },
  {
   "cell_type": "markdown",
   "source": [
    "### Clean Matched users_approx"
   ],
   "metadata": {
    "collapsed": false
   },
   "id": "c3c5349921f93bad"
  },
  {
   "cell_type": "code",
   "outputs": [
    {
     "name": "stderr",
     "output_type": "stream",
     "text": [
      "/var/folders/_b/w9s75zbd5tsf70gz6vs4nshh0000gn/T/ipykernel_54915/3965183988.py:102: FutureWarning: errors='ignore' is deprecated and will raise in a future version. Use to_numeric without passing `errors` and catch exceptions explicitly instead\n",
      "  df = df.apply(pd.to_numeric, errors='ignore')\n"
     ]
    }
   ],
   "source": [
    "users_approx = clean_matched_data(users_approx)\n",
    "us_users_approx = users_approx[users_approx[\"ba_location\"].isin(us_states)]"
   ],
   "metadata": {
    "collapsed": false,
    "ExecuteTime": {
     "end_time": "2024-11-13T21:30:05.282898Z",
     "start_time": "2024-11-13T21:30:05.272318Z"
    }
   },
   "id": "f164c11098328983",
   "execution_count": 32
  },
  {
   "cell_type": "code",
   "outputs": [],
   "source": [
    "with open(Matched_path(clean_path) + \"/usa_users_approx.csv\", \"w\") as f:\n",
    "    us_users_approx.to_csv(f, index=False)"
   ],
   "metadata": {
    "collapsed": false,
    "ExecuteTime": {
     "end_time": "2024-11-13T21:30:05.296276Z",
     "start_time": "2024-11-13T21:30:05.283652Z"
    }
   },
   "id": "885913ca7eb580d0",
   "execution_count": 33
  },
  {
   "cell_type": "markdown",
   "source": [
    "### Clean Matched ratings"
   ],
   "metadata": {
    "collapsed": false
   },
   "id": "fd9b1fac8e158d17"
  },
  {
   "cell_type": "code",
   "outputs": [
    {
     "name": "stderr",
     "output_type": "stream",
     "text": [
      "/var/folders/_b/w9s75zbd5tsf70gz6vs4nshh0000gn/T/ipykernel_54915/3965183988.py:102: FutureWarning: errors='ignore' is deprecated and will raise in a future version. Use to_numeric without passing `errors` and catch exceptions explicitly instead\n",
      "  df = df.apply(pd.to_numeric, errors='ignore')\n"
     ]
    }
   ],
   "source": [
    "ratings = clean_matched_data(ratings)"
   ],
   "metadata": {
    "collapsed": false,
    "ExecuteTime": {
     "end_time": "2024-11-13T21:30:05.632042Z",
     "start_time": "2024-11-13T21:30:05.535782Z"
    }
   },
   "id": "2705c1db127359f1",
   "execution_count": 34
  },
  {
   "cell_type": "code",
   "outputs": [
    {
     "name": "stderr",
     "output_type": "stream",
     "text": [
      "/var/folders/_b/w9s75zbd5tsf70gz6vs4nshh0000gn/T/ipykernel_54915/3965183988.py:50: FutureWarning: ChainedAssignmentError: behaviour will change in pandas 3.0!\n",
      "You are setting values through chained assignment. Currently this works in certain cases, but when using Copy-on-Write (which will become the default behaviour in pandas 3.0) this will never work to update the original DataFrame or Series, because the intermediate object on which we are setting values will behave as a copy.\n",
      "A typical example is when you are setting values in a column of a DataFrame, like:\n",
      "\n",
      "df[\"col\"][row_indexer] = value\n",
      "\n",
      "Use `df.loc[row_indexer, \"col\"] = values` instead, to perform the assignment in a single step and ensure this keeps updating the original `df`.\n",
      "\n",
      "See the caveats in the documentation: https://pandas.pydata.org/pandas-docs/stable/user_guide/indexing.html#returning-a-view-versus-a-copy\n",
      "\n",
      "  df[column_name][is_nan] = replace_value\n",
      "/var/folders/_b/w9s75zbd5tsf70gz6vs4nshh0000gn/T/ipykernel_54915/3965183988.py:50: SettingWithCopyWarning: \n",
      "A value is trying to be set on a copy of a slice from a DataFrame\n",
      "\n",
      "See the caveats in the documentation: https://pandas.pydata.org/pandas-docs/stable/user_guide/indexing.html#returning-a-view-versus-a-copy\n",
      "  df[column_name][is_nan] = replace_value\n",
      "/var/folders/_b/w9s75zbd5tsf70gz6vs4nshh0000gn/T/ipykernel_54915/3965183988.py:50: FutureWarning: ChainedAssignmentError: behaviour will change in pandas 3.0!\n",
      "You are setting values through chained assignment. Currently this works in certain cases, but when using Copy-on-Write (which will become the default behaviour in pandas 3.0) this will never work to update the original DataFrame or Series, because the intermediate object on which we are setting values will behave as a copy.\n",
      "A typical example is when you are setting values in a column of a DataFrame, like:\n",
      "\n",
      "df[\"col\"][row_indexer] = value\n",
      "\n",
      "Use `df.loc[row_indexer, \"col\"] = values` instead, to perform the assignment in a single step and ensure this keeps updating the original `df`.\n",
      "\n",
      "See the caveats in the documentation: https://pandas.pydata.org/pandas-docs/stable/user_guide/indexing.html#returning-a-view-versus-a-copy\n",
      "\n",
      "  df[column_name][is_nan] = replace_value\n",
      "/var/folders/_b/w9s75zbd5tsf70gz6vs4nshh0000gn/T/ipykernel_54915/3965183988.py:50: SettingWithCopyWarning: \n",
      "A value is trying to be set on a copy of a slice from a DataFrame\n",
      "\n",
      "See the caveats in the documentation: https://pandas.pydata.org/pandas-docs/stable/user_guide/indexing.html#returning-a-view-versus-a-copy\n",
      "  df[column_name][is_nan] = replace_value\n",
      "/var/folders/_b/w9s75zbd5tsf70gz6vs4nshh0000gn/T/ipykernel_54915/3965183988.py:50: FutureWarning: ChainedAssignmentError: behaviour will change in pandas 3.0!\n",
      "You are setting values through chained assignment. Currently this works in certain cases, but when using Copy-on-Write (which will become the default behaviour in pandas 3.0) this will never work to update the original DataFrame or Series, because the intermediate object on which we are setting values will behave as a copy.\n",
      "A typical example is when you are setting values in a column of a DataFrame, like:\n",
      "\n",
      "df[\"col\"][row_indexer] = value\n",
      "\n",
      "Use `df.loc[row_indexer, \"col\"] = values` instead, to perform the assignment in a single step and ensure this keeps updating the original `df`.\n",
      "\n",
      "See the caveats in the documentation: https://pandas.pydata.org/pandas-docs/stable/user_guide/indexing.html#returning-a-view-versus-a-copy\n",
      "\n",
      "  df[column_name][is_nan] = replace_value\n",
      "/var/folders/_b/w9s75zbd5tsf70gz6vs4nshh0000gn/T/ipykernel_54915/3965183988.py:50: SettingWithCopyWarning: \n",
      "A value is trying to be set on a copy of a slice from a DataFrame\n",
      "\n",
      "See the caveats in the documentation: https://pandas.pydata.org/pandas-docs/stable/user_guide/indexing.html#returning-a-view-versus-a-copy\n",
      "  df[column_name][is_nan] = replace_value\n",
      "/var/folders/_b/w9s75zbd5tsf70gz6vs4nshh0000gn/T/ipykernel_54915/3965183988.py:50: FutureWarning: ChainedAssignmentError: behaviour will change in pandas 3.0!\n",
      "You are setting values through chained assignment. Currently this works in certain cases, but when using Copy-on-Write (which will become the default behaviour in pandas 3.0) this will never work to update the original DataFrame or Series, because the intermediate object on which we are setting values will behave as a copy.\n",
      "A typical example is when you are setting values in a column of a DataFrame, like:\n",
      "\n",
      "df[\"col\"][row_indexer] = value\n",
      "\n",
      "Use `df.loc[row_indexer, \"col\"] = values` instead, to perform the assignment in a single step and ensure this keeps updating the original `df`.\n",
      "\n",
      "See the caveats in the documentation: https://pandas.pydata.org/pandas-docs/stable/user_guide/indexing.html#returning-a-view-versus-a-copy\n",
      "\n",
      "  df[column_name][is_nan] = replace_value\n",
      "/var/folders/_b/w9s75zbd5tsf70gz6vs4nshh0000gn/T/ipykernel_54915/3965183988.py:50: SettingWithCopyWarning: \n",
      "A value is trying to be set on a copy of a slice from a DataFrame\n",
      "\n",
      "See the caveats in the documentation: https://pandas.pydata.org/pandas-docs/stable/user_guide/indexing.html#returning-a-view-versus-a-copy\n",
      "  df[column_name][is_nan] = replace_value\n",
      "/var/folders/_b/w9s75zbd5tsf70gz6vs4nshh0000gn/T/ipykernel_54915/3965183988.py:50: FutureWarning: ChainedAssignmentError: behaviour will change in pandas 3.0!\n",
      "You are setting values through chained assignment. Currently this works in certain cases, but when using Copy-on-Write (which will become the default behaviour in pandas 3.0) this will never work to update the original DataFrame or Series, because the intermediate object on which we are setting values will behave as a copy.\n",
      "A typical example is when you are setting values in a column of a DataFrame, like:\n",
      "\n",
      "df[\"col\"][row_indexer] = value\n",
      "\n",
      "Use `df.loc[row_indexer, \"col\"] = values` instead, to perform the assignment in a single step and ensure this keeps updating the original `df`.\n",
      "\n",
      "See the caveats in the documentation: https://pandas.pydata.org/pandas-docs/stable/user_guide/indexing.html#returning-a-view-versus-a-copy\n",
      "\n",
      "  df[column_name][is_nan] = replace_value\n",
      "/var/folders/_b/w9s75zbd5tsf70gz6vs4nshh0000gn/T/ipykernel_54915/3965183988.py:50: SettingWithCopyWarning: \n",
      "A value is trying to be set on a copy of a slice from a DataFrame\n",
      "\n",
      "See the caveats in the documentation: https://pandas.pydata.org/pandas-docs/stable/user_guide/indexing.html#returning-a-view-versus-a-copy\n",
      "  df[column_name][is_nan] = replace_value\n",
      "/var/folders/_b/w9s75zbd5tsf70gz6vs4nshh0000gn/T/ipykernel_54915/3965183988.py:50: FutureWarning: ChainedAssignmentError: behaviour will change in pandas 3.0!\n",
      "You are setting values through chained assignment. Currently this works in certain cases, but when using Copy-on-Write (which will become the default behaviour in pandas 3.0) this will never work to update the original DataFrame or Series, because the intermediate object on which we are setting values will behave as a copy.\n",
      "A typical example is when you are setting values in a column of a DataFrame, like:\n",
      "\n",
      "df[\"col\"][row_indexer] = value\n",
      "\n",
      "Use `df.loc[row_indexer, \"col\"] = values` instead, to perform the assignment in a single step and ensure this keeps updating the original `df`.\n",
      "\n",
      "See the caveats in the documentation: https://pandas.pydata.org/pandas-docs/stable/user_guide/indexing.html#returning-a-view-versus-a-copy\n",
      "\n",
      "  df[column_name][is_nan] = replace_value\n",
      "/var/folders/_b/w9s75zbd5tsf70gz6vs4nshh0000gn/T/ipykernel_54915/3965183988.py:50: SettingWithCopyWarning: \n",
      "A value is trying to be set on a copy of a slice from a DataFrame\n",
      "\n",
      "See the caveats in the documentation: https://pandas.pydata.org/pandas-docs/stable/user_guide/indexing.html#returning-a-view-versus-a-copy\n",
      "  df[column_name][is_nan] = replace_value\n"
     ]
    }
   ],
   "source": [
    "# We don't convert str columns to utf-8 because they are already in a good state\n",
    "extract_nans_as_columns_df(ratings, numerical_columns(ratings), replace_value=0)\n",
    "extract_nans_as_columns_df(ratings, string_columns(ratings), replace_value=\"\")"
   ],
   "metadata": {
    "collapsed": false,
    "ExecuteTime": {
     "end_time": "2024-11-13T21:30:05.768438Z",
     "start_time": "2024-11-13T21:30:05.749782Z"
    }
   },
   "id": "4460234981dc294d",
   "execution_count": 35
  },
  {
   "cell_type": "code",
   "outputs": [],
   "source": [
    "with open(Matched_path(clean_path) + \"/ratings.csv\", \"w\") as f:\n",
    "    ratings.to_csv(f, index=False)"
   ],
   "metadata": {
    "collapsed": false,
    "ExecuteTime": {
     "end_time": "2024-11-13T21:30:06.405086Z",
     "start_time": "2024-11-13T21:30:05.976080Z"
    }
   },
   "id": "4d075c57e7fee451",
   "execution_count": 36
  },
  {
   "cell_type": "markdown",
   "source": [
    "### Clean Matched beers"
   ],
   "metadata": {
    "collapsed": false
   },
   "id": "cd8610807d62b046"
  },
  {
   "cell_type": "code",
   "outputs": [
    {
     "name": "stderr",
     "output_type": "stream",
     "text": [
      "/var/folders/_b/w9s75zbd5tsf70gz6vs4nshh0000gn/T/ipykernel_54915/3965183988.py:102: FutureWarning: errors='ignore' is deprecated and will raise in a future version. Use to_numeric without passing `errors` and catch exceptions explicitly instead\n",
      "  df = df.apply(pd.to_numeric, errors='ignore')\n"
     ]
    }
   ],
   "source": [
    "beers = clean_matched_data(beers)"
   ],
   "metadata": {
    "collapsed": false,
    "ExecuteTime": {
     "end_time": "2024-11-13T21:30:06.756491Z",
     "start_time": "2024-11-13T21:30:06.565344Z"
    }
   },
   "id": "44043149ef8f6f5b",
   "execution_count": 37
  },
  {
   "cell_type": "code",
   "outputs": [],
   "source": [
    "with open(Matched_path(clean_path) + \"/beers.csv\", \"w\") as f:\n",
    "    beers.to_csv(f, index=False)"
   ],
   "metadata": {
    "collapsed": false,
    "ExecuteTime": {
     "end_time": "2024-11-13T21:30:07.276699Z",
     "start_time": "2024-11-13T21:30:06.828143Z"
    }
   },
   "id": "df85577fdacb9b60",
   "execution_count": 38
  },
  {
   "cell_type": "markdown",
   "source": [
    "### Clean Matched breweries"
   ],
   "metadata": {
    "collapsed": false
   },
   "id": "67cc9532465e9be8"
  },
  {
   "cell_type": "code",
   "outputs": [
    {
     "name": "stderr",
     "output_type": "stream",
     "text": [
      "/var/folders/_b/w9s75zbd5tsf70gz6vs4nshh0000gn/T/ipykernel_54915/3965183988.py:102: FutureWarning: errors='ignore' is deprecated and will raise in a future version. Use to_numeric without passing `errors` and catch exceptions explicitly instead\n",
      "  df = df.apply(pd.to_numeric, errors='ignore')\n"
     ]
    }
   ],
   "source": [
    "breweries = clean_matched_data(breweries)"
   ],
   "metadata": {
    "collapsed": false,
    "ExecuteTime": {
     "end_time": "2024-11-13T21:30:07.502770Z",
     "start_time": "2024-11-13T21:30:07.482958Z"
    }
   },
   "id": "c65e3d71d0fe751a",
   "execution_count": 39
  },
  {
   "cell_type": "code",
   "outputs": [],
   "source": [
    "with open(Matched_path(clean_path) + \"/breweries.csv\", \"w\") as f:\n",
    "    breweries.to_csv(f, index=False)"
   ],
   "metadata": {
    "collapsed": false,
    "ExecuteTime": {
     "end_time": "2024-11-13T21:30:07.935472Z",
     "start_time": "2024-11-13T21:30:07.907377Z"
    }
   },
   "id": "5a0db846acb031b4",
   "execution_count": 40
  }
 ],
 "metadata": {
  "kernelspec": {
   "display_name": "Python 3",
   "language": "python",
   "name": "python3"
  },
  "language_info": {
   "codemirror_mode": {
    "name": "ipython",
    "version": 2
   },
   "file_extension": ".py",
   "mimetype": "text/x-python",
   "name": "python",
   "nbconvert_exporter": "python",
   "pygments_lexer": "ipython2",
   "version": "2.7.6"
  }
 },
 "nbformat": 4,
 "nbformat_minor": 5
}
