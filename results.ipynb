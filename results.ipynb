{
 "cells": [
  {
   "cell_type": "markdown",
   "metadata": {},
   "source": [
    "# Beer and USA"
   ]
  },
  {
   "cell_type": "markdown",
   "metadata": {},
   "source": [
    "## imports"
   ]
  },
  {
   "cell_type": "code",
   "outputs": [
    {
     "name": "stderr",
     "output_type": "stream",
     "text": [
      "/Users/petertaylor/Documents/Info/master/Ada/ada-2024-project-fandemondada/src/data/additional_data.py:36: DeprecationWarning: invalid escape sequence '\\('\n",
      "  .apply(lambda x : x.str.split(' \\(r').str[0])\n"
     ]
    }
   ],
   "source": [
    "from src.data.save_tar_gz import tar_gz_to_csv\n",
    "from src.data.load_data import load_data_from_csv\n",
    "from src.utils.data_utils import *\n",
    "from src.data.additional_data import *\n",
    "import warnings\n",
    "import matplotlib.pyplot as plt\n",
    "import numpy as np\n",
    "import os\n",
    "import pandas as pd\n",
    "import src.data.wrangling as wrangling"
   ],
   "metadata": {
    "collapsed": false,
    "ExecuteTime": {
     "end_time": "2024-11-14T21:00:18.665478Z",
     "start_time": "2024-11-14T21:00:18.643082Z"
    }
   },
   "execution_count": 6
  },
  {
   "cell_type": "markdown",
   "source": [
    "## Loading the data into dict. of dataframes\n",
    "\n",
    "The first option loads the data from the compressed .tar.gz files, the second option loads directly from extracted csv files."
   ],
   "metadata": {
    "collapsed": false
   }
  },
  {
   "cell_type": "code",
   "outputs": [],
   "source": [
    "# put the tar.tz files in the data/ folder\n",
    "# warnings.filterwarnings(\"ignore\")\n",
    "# data = tar_gz_to_csv(load_path= 'data/', save_path='data/raw/', load_text = False)\n",
    "# warnings.filterwarnings(\"default\")\n",
    "\n",
    "##use this line if you have all the data extracted to csv files under data/raw in subfolders BeerAdvocate, RateBeer, and MatchedBeerData\n",
    "##it loads the data into 3 dictionnaries containing the dataframes\n",
    "data_ba, data_rb, data_matched = load_data_from_csv('data/raw/')\n"
   ],
   "metadata": {
    "collapsed": false,
    "is_executing": true,
    "ExecuteTime": {
     "start_time": "2024-11-14T21:00:18.985756Z"
    }
   }
  },
  {
   "cell_type": "code",
   "outputs": [],
   "source": [
    "print(data_ba.keys())\n",
    "print(data_rb.keys())\n",
    "print(data_matched.keys())\n",
    "\n",
    "#remove textual review columns if needed\n",
    "remove_txt_columns(data_ba, data_rb, data_matched)"
   ],
   "metadata": {
    "collapsed": false,
    "is_executing": true
   }
  },
  {
   "cell_type": "markdown",
   "source": [
    "# Cleaning and wrangling the data\n",
    "\n",
    "For each dataset, we will clean the data by removing duplicates, missing values, and irrelevant columns.\n",
    "To remove missing values we'll use the following strategy:\n",
    "We'll extract a new column containing a boolean value indicating if the row has missing values. And replace the missing values by 0. This can be useful in a logistic regression if having a missing value at field x actually yields some information."
   ],
   "metadata": {
    "collapsed": false
   }
  },
  {
   "cell_type": "code",
   "outputs": [],
   "source": [
    "data_path = \"data/raw\"\n",
    "Ratebeer_path = lambda path: f\"{path}/Ratebeer\"\n",
    "BeerAdvocate_path = lambda path: f\"{path}/BeerAdvocate\"\n",
    "Matched_path = lambda path: f\"{path}/MatchedBeerData\"\n",
    "clean_path = \"data/clean\""
   ],
   "metadata": {
    "collapsed": false,
    "is_executing": true
   }
  },
  {
   "cell_type": "markdown",
   "source": [
    "### Cleaning BeerAdvocate data\n",
    "\n",
    "We'll start by cleaning the BeerAdvocate data. We'll clean the users, ratings, beers, and breweries data.\n",
    "For users, we'll only focus on american users. \n",
    "We'll filter the users by their location and keep only the ones that have a location in the USA. Same with ratings we'll remove those not made by american users. We also remove the text reviews as we won't use them. Finally the missing data are handled as explained above."
   ],
   "metadata": {
    "collapsed": false
   }
  },
  {
   "cell_type": "code",
   "outputs": [],
   "source": [
    "wrangling.clean_beer_advocate(\n",
    "    raw_data_path=BeerAdvocate_path(data_path),\n",
    "    clean_data_path=BeerAdvocate_path(clean_path)\n",
    ")"
   ],
   "metadata": {
    "collapsed": false,
    "is_executing": true
   }
  },
  {
   "cell_type": "markdown",
   "source": [
    "### Cleaning RateBeer data\n",
    "\n",
    "The cleaning process is exactly the same as for BeerAdvocate"
   ],
   "metadata": {
    "collapsed": false
   }
  },
  {
   "cell_type": "code",
   "outputs": [],
   "source": [
    "wrangling.clean_ratebeer(\n",
    "    raw_data_path=Ratebeer_path(data_path),\n",
    "    clean_data_path=Ratebeer_path(clean_path)\n",
    ")"
   ],
   "metadata": {
    "collapsed": false,
    "is_executing": true
   }
  },
  {
   "cell_type": "markdown",
   "source": [
    "### Cleaning Matched data\n",
    "\n",
    "Here the cleaning is a bit different as we have to match the data from BeerAdvocate and RateBeer.\n",
    "As the columns have multiple types (the first row contains the name of the column in the original dataset), we have to clean them first. We'll delete the first row and append it to the column names so that they are more readable (for example ra_1 becomes ra_text). We'll then convert the columns to the correct type and remove the rows with missing values. The rest of the cleaning process is the same as for the other datasets."
   ],
   "metadata": {
    "collapsed": false
   }
  },
  {
   "cell_type": "code",
   "outputs": [],
   "source": [
    "wrangling.clean_matched_data(\n",
    "    raw_data_path=Matched_path(data_path),\n",
    "    clean_data_path=Matched_path(clean_path)\n",
    ")"
   ],
   "metadata": {
    "collapsed": false,
    "is_executing": true
   }
  },
  {
   "cell_type": "markdown",
   "metadata": {},
   "source": [
    "## Analyse distribution of US users per state"
   ]
  },
  {
   "cell_type": "code",
   "execution_count": null,
   "metadata": {
    "is_executing": true
   },
   "outputs": [],
   "source": [
    "users_matched = data_matched['matched_beer_data_users.csv']\n",
    "users_ba = data_ba['BeerAdvocate_users.csv']\n",
    "users_rb = data_rb['RateBeer_users.csv']\n",
    "users_ba = users_ba.dropna(subset=['location'])\n",
    "users_rb = users_rb.dropna(subset=['location'])"
   ]
  },
  {
   "cell_type": "code",
   "execution_count": null,
   "metadata": {
    "is_executing": true
   },
   "outputs": [],
   "source": [
    "users_matched_usa = users_matched[users_matched['ba.1'].str.startswith('United States')]\n",
    "users_ba_usa = users_ba[users_ba['location'].str.startswith('United States')]\n",
    "users_rb_usa = users_rb[users_rb['location'].str.startswith('United States')]\n",
    "\n",
    "\n",
    "print(f\"Number of matched users in USA: {users_matched_usa.shape[0]}\")\n",
    "print(f\"Number of BeerAdvocate users in USA: {users_ba_usa.shape[0]}\")\n",
    "print(f\"Number of RateBeer users in USA: {users_rb_usa.shape[0]}\")"
   ]
  },
  {
   "cell_type": "code",
   "execution_count": null,
   "metadata": {
    "is_executing": true
   },
   "outputs": [],
   "source": [
    "states_usa_ba = users_ba_usa['location'].apply(lambda x: x.split(', ')[1])\n",
    "states_usa_rb = users_rb_usa['location'].apply(lambda x: x.split(', ')[1])\n",
    "\n",
    "# print(f\"USA states represented in BeerAdvocate: {len(states_usa_ba.unique())}\")\n",
    "# print(f\"USA states represented in RateBeer: {len(states_usa_rb.unique())}\")\n",
    "\n",
    "# print(f\"Number of users per state in BeerAdvocate: {states_usa_ba.value_counts()}\")\n",
    "# print(f\"Number of users per state in RateBeer: {states_usa_rb.value_counts()}\")\n",
    "\n",
    "users_per_state_ba = states_usa_ba.value_counts().to_dict()\n",
    "users_per_state_rb = states_usa_rb.value_counts().to_dict()\n",
    "users_per_state_barb = {k: (users_per_state_ba[k] + users_per_state_rb[k]) for k in users_per_state_ba.keys()}\n",
    "\n",
    "states = users_per_state_barb.keys()\n",
    "users = users_per_state_barb.values()\n",
    "\n",
    "fig, ax = plt.subplots(figsize=(15, 8))\n",
    "ax.bar(states, users)\n",
    "ax.set_ylabel('Number of users')\n",
    "ax.set_xlabel('States')\n",
    "plt.xticks(rotation=90)\n",
    "plt.show()\n",
    "\n"
   ]
  },
  {
   "cell_type": "markdown",
   "metadata": {},
   "source": [
    "## Analyse distribution of US Breweries per state"
   ]
  },
  {
   "cell_type": "code",
   "execution_count": null,
   "metadata": {
    "is_executing": true
   },
   "outputs": [],
   "source": [
    "breweries_matched = data_matched['matched_beer_data_breweries.csv']\n",
    "breweries_ba = data_ba['BeerAdvocate_breweries.csv']\n",
    "breweries_rb = data_rb['RateBeer_breweries.csv']\n",
    "breweries_ba = breweries_ba.dropna(subset=['location'])\n",
    "breweries_rb = breweries_rb.dropna(subset=['location'])"
   ]
  },
  {
   "cell_type": "code",
   "execution_count": null,
   "metadata": {
    "is_executing": true
   },
   "outputs": [],
   "source": [
    "breweries_matched_usa = breweries_matched[breweries_matched['ba.1'].str.startswith('United States')]\n",
    "breweries_ba_usa = breweries_ba[breweries_ba['location'].str.startswith('United States')]\n",
    "breweries_rb_usa = breweries_rb[breweries_rb['location'].str.startswith('United States')]\n",
    "\n",
    "\n",
    "print(f\"Number of matched breweries in USA: {breweries_matched_usa.shape[0]}\")\n",
    "print(f\"Number of BeerAdvocate breweries in USA: {breweries_ba_usa.shape[0]}\")\n",
    "print(f\"Number of RateBeer breweries in USA: {breweries_rb_usa.shape[0]}\")"
   ]
  },
  {
   "cell_type": "code",
   "execution_count": null,
   "metadata": {
    "is_executing": true
   },
   "outputs": [],
   "source": [
    "breweries_name_split_ba = breweries_ba_usa['location'].apply(lambda x: len(x.split(',')))\n",
    "breweries_filtered_ba = breweries_ba_usa[breweries_name_split_ba == 2]\n",
    "breweries_filtered_ba = breweries_filtered_ba[breweries_filtered_ba['location'] != 'United States, United States']\n",
    "breweries_per_states_ba = breweries_filtered_ba['location'].apply(lambda x: x.split(',')[1])\n",
    "\n",
    "breweries_name_split_rb = breweries_rb_usa['location'].apply(lambda x: len(x.split(',')))\n",
    "breweries_filtered_rb = breweries_rb_usa[breweries_name_split_rb == 2]\n",
    "breweries_filtered_rb['location'] = breweries_filtered_rb['location'].mask(breweries_filtered_rb['location'] == 'United States, Washington DC', 'United States, California')\n",
    "breweries_per_states_rb = breweries_filtered_rb['location'].apply(lambda x: x.split(',')[1])\n",
    "\n",
    "# print(f\"USA states with breweries represented in BeerAdvocate: {len(breweries_per_states_ba.unique())}\")\n",
    "# print(f\"USA states with breweries represented in RateBeer: {len(breweries_per_states_rb.unique())}\")\n",
    "\n",
    "# print(f\"Number of breweries per state in BeerAdvocate: {breweries_per_states_ba.value_counts()}\")\n",
    "# print(f\"Number of breweries per state in RateBeer: {breweries_per_states_rb.value_counts()}\")\n",
    "\n",
    "breweries_per_state_ba = breweries_per_states_ba.value_counts().to_dict()\n",
    "breweries_per_state_rb = breweries_per_states_rb.value_counts().to_dict()\n",
    "\n",
    "#delete the space at the start of each key\n",
    "breweries_per_state_ba = {k[1:]: v for k, v in breweries_per_state_ba.items()}\n",
    "breweries_per_state_rb = {k[1:]: v for k, v in breweries_per_state_rb.items()}\n",
    "\n",
    "breweries_per_state_barb = {k: (breweries_per_state_ba[k] + breweries_per_state_rb[k]) for k in breweries_per_state_ba.keys()}\n",
    "\n",
    "states = breweries_per_state_barb.keys()\n",
    "users = breweries_per_state_barb.values()\n",
    "\n",
    "fig, ax = plt.subplots(figsize=(15, 8))\n",
    "ax.bar(states, users)\n",
    "ax.set_ylabel('Number of users')\n",
    "ax.set_xlabel('States')\n",
    "plt.xticks(rotation=90)\n",
    "plt.show()\n",
    "\n"
   ]
  },
  {
   "cell_type": "markdown",
   "metadata": {},
   "source": [
    "## Analyse ratio of users per brewery in each state"
   ]
  },
  {
   "cell_type": "code",
   "execution_count": null,
   "metadata": {
    "is_executing": true
   },
   "outputs": [],
   "source": [
    "#Amount of users per brewery in each state\n",
    "users_per_brewery_barb = {k: (users_per_state_barb[k] / breweries_per_state_barb[k]) for k in users_per_state_ba.keys()}\n",
    "print(users_per_brewery_barb)\n",
    "\n",
    "#sort so easier to view plot\n",
    "sorted_users_per_brewery_ba = dict(sorted(users_per_brewery_barb.items(), key=lambda item: item[1]))\n",
    "\n",
    "states = sorted_users_per_brewery_ba.keys()\n",
    "users_per_brewery = sorted_users_per_brewery_ba.values()\n",
    "\n",
    "fig, ax = plt.subplots(figsize=(15, 8))\n",
    "ax.bar(states, users_per_brewery)\n",
    "ax.set_ylabel('Number of users per brewery')\n",
    "ax.set_xlabel('States')\n",
    "plt.xticks(rotation=90)\n",
    "plt.show()"
   ]
  },
  {
   "cell_type": "markdown",
   "metadata": {},
   "source": [
    "### Data from Census"
   ]
  },
  {
   "cell_type": "code",
   "execution_count": null,
   "metadata": {
    "is_executing": true
   },
   "outputs": [],
   "source": [
    "census_path = 'data/raw/Census/'\n",
    "file_name_2020 = 'DECENNIALCD1182020.H2_rural_urban_US.csv'\n",
    "file_name_2010 = 'DECENNIALCD1162010.H2_rural_urban_US.csv'\n",
    "\n",
    "urban_2020_df = load_urban_frac_df(census_path, file_name_2020).reset_index()\n",
    "urban_2010_df = load_urban_frac_df(census_path, file_name_2010).reset_index()\n",
    "\n",
    "print(urban_2020_df.head())\n",
    "print(urban_2010_df.head())"
   ]
  },
  {
   "cell_type": "markdown",
   "metadata": {},
   "source": [
    "## Number of users per habitant in each state\n",
    "This allows us to see if we have enough users per state, compared to its population."
   ]
  },
  {
   "cell_type": "code",
   "execution_count": null,
   "metadata": {
    "is_executing": true
   },
   "outputs": [],
   "source": [
    "if all(col in urban_2010_df.columns for col in ['urban_pop', 'rural_pop', 'urban_frac']):\n",
    "    urban_2010_df = urban_2010_df.drop(columns=['urban_pop', 'rural_pop', 'urban_frac'])\n",
    "urban_2010_dict = urban_2010_df.set_index('state').to_dict()['total_pop']\n",
    "\n",
    "# delete keys states that are not in the 50 official\n",
    "urban_2010_dict = {k: v for k, v in urban_2010_dict.items() if k in users_per_state_barb.keys()}\n",
    "\n",
    "# number of habitants per user in each state\n",
    "users_per_habitant = {k: (urban_2010_dict[k] / users_per_state_barb[k]) for k in users_per_state_barb.keys()}\n",
    "print(users_per_habitant)\n",
    "\n",
    "states = users_per_habitant.keys()\n",
    "users_per_habitant = users_per_habitant.values()\n",
    "\n",
    "fig, ax = plt.subplots(figsize=(15, 8))\n",
    "ax.bar(states, users_per_habitant)\n",
    "ax.set_ylabel('Number of users per habitant')\n",
    "ax.set_xlabel('States')\n",
    "plt.xticks(rotation=90)\n",
    "plt.show()"
   ]
  },
  {
   "cell_type": "markdown",
   "metadata": {},
   "source": [
    "## Alcohol consumption per capita per state"
   ]
  },
  {
   "cell_type": "code",
   "outputs": [],
   "source": [
    "icpsr_path = 'data/raw/OPENICPSR/OPENICPSR_apparent_per_capita_alcohol_consumption.csv'\n",
    "data_icpsr = load_icpsr(icpsr_path) #load + format data\n",
    "print(data_icpsr.keys())\n",
    "data_icpsr['2002'].head(5)"
   ],
   "metadata": {
    "collapsed": false,
    "is_executing": true
   }
  },
  {
   "cell_type": "markdown",
   "source": [
    "## age distribution per state"
   ],
   "metadata": {
    "collapsed": false
   }
  },
  {
   "cell_type": "code",
   "execution_count": null,
   "metadata": {
    "is_executing": true
   },
   "outputs": [],
   "source": [
    "age_path = 'data/raw/GeneralPopulationAge/DECENNIALDP2020.DP1-2024-11-14T134434.csv'\n",
    "age_total, age_male, age_female = load_age_data(age_path, load_gender = True)\n",
    "age_total.head(5)"
   ]
  },
  {
   "cell_type": "code",
   "execution_count": null,
   "metadata": {
    "is_executing": true
   },
   "outputs": [],
   "source": []
  }
 ],
 "metadata": {
  "kernelspec": {
   "display_name": "Python 3",
   "language": "python",
   "name": "python3"
  },
  "language_info": {
   "codemirror_mode": {
    "name": "ipython",
    "version": 3
   },
   "file_extension": ".py",
   "mimetype": "text/x-python",
   "name": "python",
   "nbconvert_exporter": "python",
   "pygments_lexer": "ipython3",
   "version": "3.12.2"
  }
 },
 "nbformat": 4,
 "nbformat_minor": 2
}
