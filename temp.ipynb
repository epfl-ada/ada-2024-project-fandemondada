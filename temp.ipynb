{
 "cells": [
  {
   "cell_type": "code",
   "execution_count": 1,
   "metadata": {},
   "outputs": [],
   "source": [
    "import pandas as pd"
   ]
  },
  {
   "cell_type": "markdown",
   "metadata": {},
   "source": [
    "### Regression analysis"
   ]
  },
  {
   "cell_type": "code",
   "execution_count": 18,
   "metadata": {},
   "outputs": [
    {
     "name": "stdout",
     "output_type": "stream",
     "text": [
      "available years:  dict_keys(['2001', '2002', '2003', '2004', '2005', '2006', '2007', '2008', '2009', '2010', '2011', '2012', '2013', '2014', '2015', '2016', '2017'])\n",
      "        state  ethanol_beer_gallons_per_capita  number_of_beers\n",
      "0     Alabama                             1.09       258.370370\n",
      "1      Alaska                             1.15       272.592593\n",
      "2     Arizona                             1.14       270.222222\n",
      "3    Arkansas                             0.93       220.444444\n",
      "4  California                             0.96       227.555556\n",
      "Income      RealPCE/cap    RealGDP  RealPI/cap\n",
      "State                                         \n",
      "Alabama         34044.0   199455.0     41757.0\n",
      "Alaska          42794.0    53652.0     53121.0\n",
      "Arizona         33721.0   282252.5     37162.0\n",
      "Arkansas        33101.0   113000.9     40280.0\n",
      "California      35036.0  2153852.8     43519.0\n",
      "        state  total_pop  urban_pop  rural_pop  urban_frac\n",
      "0     Alabama    2171853    1267224     904629    0.583476\n",
      "1      Alaska     306967     182989     123978    0.596119\n",
      "2     Arizona    2844526    2515504     329022    0.884332\n",
      "3    Arkansas    1316299     720584     595715    0.547432\n",
      "4  California   13680081   12814688     865393    0.936741\n"
     ]
    },
    {
     "name": "stderr",
     "output_type": "stream",
     "text": [
      "d:\\Universitaet\\Lausanne\\Cours\\MA3\\ADA\\Project\\ada-2024-project-fandemondada\\src\\data\\additional_data.py:85: FutureWarning: Downcasting behavior in `replace` is deprecated and will be removed in a future version. To retain the old behavior, explicitly call `result.infer_objects(copy=False)`. To opt-in to the future behavior, set `pd.set_option('future.no_silent_downcasting', True)`\n",
      "  df = df.replace(',', '', regex=True)\n"
     ]
    }
   ],
   "source": [
    "from src.data.additional_data import *\n",
    "from src.utils.data_utils import *\n",
    "\n",
    "age_path = 'data/raw/GeneralPopulationAge/DECENNIALDP2020.DP1-2024-11-14T134434.csv'\n",
    "age_total, age_male, age_female = load_age_data(age_path, load_gender = True)\n",
    "#print(age_total.head(5))\n",
    "\n",
    "\n",
    "icpsr_path = 'data/raw/OPENICPSR/OPENICPSR_apparent_per_capita_alcohol_consumption.csv'\n",
    "data_icpsr = load_icpsr(icpsr_path) # load + format data\n",
    "print('available years: ', data_icpsr.keys())\n",
    "print(data_icpsr['2016'].head(5))\n",
    "\n",
    "\n",
    "path = \"data/raw/IncomeBEA/\"\n",
    "filename = \"GDP_PersonalIncome_USState.csv\"\n",
    "# DPI: disposable personal income\n",
    "# PI: personal income\n",
    "# PCE: personal consumption expenditures\n",
    "# GDP: Gross Domestic Product\n",
    "BEO_income_index = {\n",
    "    'RealGDP': 1, \n",
    "    'RealPI':2, \n",
    "    'RealPCE': 3,\n",
    "    'GDP': 4,  \n",
    "    'PI': 5, \n",
    "    'DPI': 6,\n",
    "    'PCE': 7,\n",
    "    'RealPI/cap': 8,\n",
    "    'RealPCE/cap': 9,\n",
    "    'PI/cap': 10,\n",
    "    'DPI/cap': 11,\n",
    "    'PCE/cap': 12     \n",
    "    #13 14 15 useless\n",
    "}\n",
    "BEA = loadBEA(path, filename, BEO_income_index)\n",
    "BEA = get_mutliIndex_sub_df(BEA, ['RealPCE/cap', 'RealGDP', 'RealPI/cap'], ['2010']) \n",
    "BEA.index = BEA.index.droplevel(1)\n",
    "print(BEA.head(5))\n",
    "\n",
    "\n",
    "census_path = 'data/raw/Census/'\n",
    "file_name_2020 = 'DECENNIALCD1182020.H2_rural_urban_US.csv'\n",
    "file_name_2010 = 'DECENNIALCD1162010.H2_rural_urban_US.csv'\n",
    "\n",
    "\n",
    "urban_2020_df = load_urban_frac_df(census_path, file_name_2020).reset_index()\n",
    "urban_2010_df = load_urban_frac_df(census_path, file_name_2010).reset_index()\n",
    "print(urban_2010_df.head(5))\n"
   ]
  },
  {
   "cell_type": "code",
   "execution_count": 28,
   "metadata": {},
   "outputs": [
    {
     "name": "stdout",
     "output_type": "stream",
     "text": [
      "Index(['state', 'ethanol_beer_gallons_per_capita', 'number_of_beers',\n",
      "       'total_pop', 'urban_pop', 'rural_pop', 'urban_frac', 'RealPCE_cap',\n",
      "       'RealGDP', 'RealPI_cap'],\n",
      "      dtype='object')\n",
      "RangeIndex(start=0, stop=40, step=1)\n",
      "        state  ethanol_beer_gallons_per_capita  number_of_beers  total_pop  \\\n",
      "0     Alabama                             1.17       277.333333    2171853   \n",
      "1      Alaska                             1.23       291.555556     306967   \n",
      "2     Arizona                             1.23       291.555556    2844526   \n",
      "3    Arkansas                             1.04       246.518519    1316299   \n",
      "4  California                             0.97       229.925926   13680081   \n",
      "\n",
      "   urban_pop  rural_pop  urban_frac  RealPCE_cap    RealGDP  RealPI_cap  \n",
      "0    1267224     904629    0.583476      34044.0   199455.0     41757.0  \n",
      "1     182989     123978    0.596119      42794.0    53652.0     53121.0  \n",
      "2    2515504     329022    0.884332      33721.0   282252.5     37162.0  \n",
      "3     720584     595715    0.547432      33101.0   113000.9     40280.0  \n",
      "4   12814688     865393    0.936741      35036.0  2153852.8     43519.0  \n"
     ]
    }
   ],
   "source": [
    "# need to concatenate all data\n",
    "\n",
    "merged = data_icpsr['2010'].merge(urban_2010_df, how='inner', on='state')\n",
    "\n",
    "# BEA.index = BEA.index.droplevel(1)\n",
    "merged = merged.merge(BEA, how='inner', left_on='state', right_on='State')\n",
    "#merged = merged.merge(BEA, how='inner', on='state')\n",
    "# merged = merged.merge(, how='inner', left_on='state', right_on='State')\n",
    "merged = merged.rename(columns={\"RealPCE/cap\": \"RealPCE_cap\", \"RealPI/cap\": \"RealPI_cap\"}, errors=\"raise\")\n",
    "\n",
    "\n",
    "print(merged.columns)\n",
    "print(merged.index)\n",
    "print(merged.head(5))\n"
   ]
  },
  {
   "cell_type": "code",
   "execution_count": null,
   "metadata": {},
   "outputs": [],
   "source": [
    "# need to add column of beer rating"
   ]
  },
  {
   "cell_type": "code",
   "execution_count": null,
   "metadata": {},
   "outputs": [
    {
     "name": "stdout",
     "output_type": "stream",
     "text": [
      "                            OLS Regression Results                            \n",
      "==============================================================================\n",
      "Dep. Variable:              rural_pop   R-squared:                       1.000\n",
      "Model:                            OLS   Adj. R-squared:                  1.000\n",
      "Method:                 Least Squares   F-statistic:                 1.863e+26\n",
      "Date:                Tue, 10 Dec 2024   Prob (F-statistic):               0.00\n",
      "Time:                        13:59:07   Log-Likelihood:                 608.19\n",
      "No. Observations:                  40   AIC:                            -1200.\n",
      "Df Residuals:                      32   BIC:                            -1187.\n",
      "Df Model:                           7                                         \n",
      "Covariance Type:            nonrobust                                         \n",
      "===================================================================================================\n",
      "                                      coef    std err          t      P>|t|      [0.025      0.975]\n",
      "---------------------------------------------------------------------------------------------------\n",
      "Intercept                        -2.91e-11   1.72e-07     -0.000      1.000   -3.51e-07    3.51e-07\n",
      "total_pop                           1.0000   3.88e-14   2.58e+13      0.000       1.000       1.000\n",
      "urban_frac                       9.895e-10   9.88e-08      0.010      0.992      -2e-07    2.02e-07\n",
      "total_pop:urban_frac               -1.0000   4.94e-14  -2.02e+13      0.000      -1.000      -1.000\n",
      "ethanol_beer_gallons_per_capita -8.882e-16   1.15e-12     -0.001      0.999   -2.34e-12    2.34e-12\n",
      "number_of_beers                          0   2.73e-10          0      1.000   -5.55e-10    5.55e-10\n",
      "RealPCE_cap                     -3.197e-14   6.36e-12     -0.005      0.996    -1.3e-11    1.29e-11\n",
      "RealGDP                         -1.665e-16   1.46e-13     -0.001      0.999   -2.98e-13    2.97e-13\n",
      "RealPI_cap                       1.243e-14   3.87e-12      0.003      0.997   -7.86e-12    7.89e-12\n",
      "==============================================================================\n",
      "Omnibus:                       37.147   Durbin-Watson:                   1.154\n",
      "Prob(Omnibus):                  0.000   Jarque-Bera (JB):               99.446\n",
      "Skew:                           2.385   Prob(JB):                     2.54e-22\n",
      "Kurtosis:                       9.076   Cond. No.                     1.61e+21\n",
      "==============================================================================\n",
      "\n",
      "Notes:\n",
      "[1] Standard Errors assume that the covariance matrix of the errors is correctly specified.\n",
      "[2] The smallest eigenvalue is 4.06e-28. This might indicate that there are\n",
      "strong multicollinearity problems or that the design matrix is singular.\n"
     ]
    }
   ],
   "source": [
    "import statsmodels.formula.api as smf\n",
    "\n",
    "ols_formula = 'rural_pop ~ total_pop*urban_frac + ethanol_beer_gallons_per_capita + number_of_beers + RealPCE_cap + RealGDP + RealPI_cap'\n",
    "#ols_formula = 'review ~ urban_frac + ethanol_beer_gallons_per_capita + number_of_beers + RealPCE_cap + RealGDP + RealPI_cap'\n",
    "\n",
    "mod = smf.ols(formula=ols_formula, data=merged)\n",
    "res = mod.fit()\n",
    "print(res.summary())"
   ]
  }
 ],
 "metadata": {
  "kernelspec": {
   "display_name": "ada_kernel",
   "language": "python",
   "name": "ada_kernel"
  },
  "language_info": {
   "codemirror_mode": {
    "name": "ipython",
    "version": 3
   },
   "file_extension": ".py",
   "mimetype": "text/x-python",
   "name": "python",
   "nbconvert_exporter": "python",
   "pygments_lexer": "ipython3",
   "version": "3.11.9"
  }
 },
 "nbformat": 4,
 "nbformat_minor": 2
}
