{
 "cells": [
  {
   "cell_type": "code",
   "execution_count": null,
   "metadata": {},
   "outputs": [],
   "source": [
    "from src.data.save_tar_gz import tar_gz_to_csv\n",
    "from src.data.load_data import load_data_from_csv\n",
    "from src.utils.data_utils import *\n",
    "from src.data.additional_data import *\n",
    "import warnings\n",
    "import matplotlib.pyplot as plt\n",
    "import numpy as np\n",
    "import os\n",
    "import pandas as pd\n",
    "import src.data.wrangling as wrangling\n",
    "from datetime import datetime"
   ]
  },
  {
   "cell_type": "markdown",
   "metadata": {},
   "source": [
    "# Intermediate findings from results"
   ]
  },
  {
   "cell_type": "markdown",
   "metadata": {},
   "source": [
    "## Tests à la con"
   ]
  },
  {
   "cell_type": "code",
   "execution_count": null,
   "metadata": {},
   "outputs": [],
   "source": [
    "def get_ba_beer_merged():\n",
    "    ba_usa_ratings = pd.read_csv(\"data/clean/BeerAdvocate/usa_ratings.csv\")\n",
    "    ba_usa_users = pd.read_csv(\"data/clean/BeerAdvocate/usa_users.csv\")\n",
    "\n",
    "    ba_usa_ratings = ba_usa_ratings.merge(ba_usa_users[['user_id', 'location']], on='user_id', how='left')\n",
    "    ba_usa_ratings['state'] = ba_usa_ratings['location'].apply(lambda x: x.split(', ')[-1])\n",
    "\n",
    "    return ba_usa_ratings\n",
    "\n",
    "\n",
    "ba_usa_ratings = get_ba_beer_merged()"
   ]
  },
  {
   "cell_type": "code",
   "execution_count": null,
   "metadata": {},
   "outputs": [
    {
     "name": "stdout",
     "output_type": "stream",
     "text": [
      "104\n"
     ]
    }
   ],
   "source": [
    "#users_matched = data_matched['matched_beer_data_users.csv']\n",
    "#users_ba = data_ba['BeerAdvocate_users.csv']\n",
    "#users_rb = data_rb['RateBeer_users.csv']\n",
    "\n",
    "# need to add column of beer rating\n",
    "#ba_beers = pd.read_csv(f\"{BeerAdvocate_path(clean_path)}/beers.csv\")\n",
    "\n",
    "# grouped by beer and state\n",
    "column_to_group = 'style'\n",
    "\n",
    "#ba_usa_ratings['state'] = ba_usa_ratings['location'].apply(lambda x: x.split(', ')[-1])\n",
    "reviews_by_beer_state = ba_usa_ratings.groupby(['state', column_to_group]).mean(numeric_only=True).reset_index()\n",
    "#reviews_by_state = ba_usa_ratings['abv', 'location'].groupby('location').mean()#.reset_index(name='review_count')\n",
    "reviews_by_beer_state = reviews_by_beer_state.loc[:, ['state', column_to_group, 'appearance', 'aroma', 'palate', 'taste', 'overall', 'rating']]\n",
    "# to know how many got grouped\n",
    "reviews_by_beer_state['review_count'] = ba_usa_ratings.groupby(['state', column_to_group]).size().values\n",
    "reviews_by_beer_state = reviews_by_beer_state.loc[reviews_by_beer_state[\"review_count\"] > 10]    # only more than 10 reviews by beer\n",
    "\n",
    "# selected_rows = reviews_by_beer_state[reviews_by_beer_state['style'] == \"English Pale Ale\"]\n",
    "\n",
    "beer_styles = pd.unique(reviews_by_beer_state[column_to_group])\n",
    "print(len(beer_styles))\n",
    "# selected_rows\n",
    "\n"
   ]
  },
  {
   "cell_type": "markdown",
   "metadata": {},
   "source": [
    "## Top-Rated Beer Styles"
   ]
  },
  {
   "cell_type": "code",
   "execution_count": null,
   "metadata": {},
   "outputs": [
    {
     "name": "stdout",
     "output_type": "stream",
     "text": [
      "Top-rated beer styles across the U.S.:\n",
      "style\n",
      "Gose                                2.974140\n",
      "Kvass                               2.867680\n",
      "Eisbock                             2.702948\n",
      "Berliner Weissbier                  2.642580\n",
      "American Wild Ale                   2.590513\n",
      "English Pale Mild Ale               2.578963\n",
      "American Double / Imperial Stout    2.568663\n",
      "Baltic Porter                       2.564610\n",
      "Weizenbock                          2.561228\n",
      "Roggenbier                          2.546682\n",
      "Name: overall, dtype: float64\n",
      "Top-rated beer styles by state:\n",
      "               state                      style   overall\n",
      "8            Alabama    American Dark Wheat Ale  2.819444\n",
      "148           Alaska      English Dark Mild Ale  4.154762\n",
      "239          Arizona                    Braggot  3.444444\n",
      "352         Arkansas                    Eisbock  3.521739\n",
      "475       California                       Gose  2.750821\n",
      "558         Colorado                    Eisbock  3.062925\n",
      "683      Connecticut                       Gose  2.982977\n",
      "787         Delaware                       Gose  3.222441\n",
      "890          Florida                       Gose  2.714171\n",
      "980          Georgia      English Pale Mild Ale  3.053571\n",
      "1131          Hawaii               Scottish Ale  3.425000\n",
      "1181           Idaho                    Eisbock  3.750000\n",
      "1315        Illinois                      Kvass  3.091981\n",
      "1409         Indiana                       Gose  3.075685\n",
      "1492            Iowa                    Eisbock  3.271739\n",
      "1575          Kansas          American Wild Ale  2.909974\n",
      "1747        Kentucky                 Roggenbier  3.625000\n",
      "1801       Louisiana  Dortmunder / Export Lager  3.331967\n",
      "1899           Maine                    Braggot  3.287879\n",
      "2031        Maryland                       Gose  3.180522\n",
      "2161   Massachusetts                 Roggenbier  2.926230\n",
      "2265        Michigan                 Roggenbier  3.553279\n",
      "2353       Minnesota                      Kvass  3.722222\n",
      "2470     Mississippi                  Rauchbier  3.180556\n",
      "2575        Missouri                 Roggenbier  3.381579\n",
      "2619         Montana             Bière de Garde  3.928571\n",
      "2753        Nebraska                       Gose  3.188849\n",
      "2857          Nevada                       Gose  3.104167\n",
      "2939   New Hampshire                    Eisbock  2.970588\n",
      "3064      New Jersey                       Gose  3.027136\n",
      "3193      New Mexico                  Rauchbier  3.812500\n",
      "3258        New York      English Pale Mild Ale  3.100000\n",
      "3386  North Carolina                      Kvass  3.566176\n",
      "3479    North Dakota                       Gose  2.620370\n",
      "3581            Ohio                       Gose  3.161086\n",
      "3631        Oklahoma    American Dark Wheat Ale  3.170455\n",
      "3767          Oregon                    Eisbock  3.042135\n",
      "3892    Pennsylvania                       Gose  3.090242\n",
      "3997    Rhode Island                     Gueuze  3.579004\n",
      "4093  South Carolina                       Faro  3.038462\n",
      "4161    South Dakota          American Wild Ale  2.718750\n",
      "4275       Tennessee                    Braggot  3.387500\n",
      "4419           Texas                      Kvass  3.375000\n",
      "4513            Utah                       Gose  3.194444\n",
      "4607         Vermont          Euro Strong Lager  3.270833\n",
      "4718        Virginia                       Gose  2.954853\n",
      "4832      Washington                      Kvass  3.210526\n",
      "4905   West Virginia                    Eisbock  3.538462\n",
      "5015       Wisconsin      English Pale Mild Ale  3.137931\n",
      "5122         Wyoming         English Strong Ale  3.766667\n"
     ]
    }
   ],
   "source": [
    "#top-rated beer styles overall\n",
    "top_beer_styles = reviews_by_beer_state.groupby('style')['overall'].mean().sort_values(ascending=False)\n",
    "print(\"Top-rated beer styles across the U.S.:\")\n",
    "print(top_beer_styles.head(10))\n",
    "\n",
    "#top-rated beer style per state\n",
    "top_beer_styles_by_state = reviews_by_beer_state.loc[reviews_by_beer_state.groupby('state')['overall'].idxmax()]\n",
    "print(\"Top-rated beer styles by state:\")\n",
    "print(top_beer_styles_by_state[['state', 'style', 'overall']])\n",
    "\n",
    "\n"
   ]
  },
  {
   "cell_type": "markdown",
   "metadata": {},
   "source": [
    "## Diversity in Preferences"
   ]
  },
  {
   "cell_type": "code",
   "execution_count": null,
   "metadata": {},
   "outputs": [
    {
     "name": "stdout",
     "output_type": "stream",
     "text": [
      "Beer styles with the highest variance in ratings across states:\n",
      "style\n",
      "Happoshu                 0.422093\n",
      "Braggot                  0.289281\n",
      "Roggenbier               0.282390\n",
      "English Dark Mild Ale    0.266829\n",
      "Gueuze                   0.265421\n",
      "Kristalweizen            0.257993\n",
      "Bière de Garde           0.241892\n",
      "Kvass                    0.221174\n",
      "Eisbock                  0.208452\n",
      "English Strong Ale       0.203835\n",
      "Name: overall, dtype: float64\n"
     ]
    },
    {
     "data": {
      "image/png": "[encoded data removed]",
      "text/plain": [
       "<Figure size 1000x600 with 1 Axes>"
      ]
     },
     "metadata": {},
     "output_type": "display_data"
    }
   ],
   "source": [
    "#variance in ratings for each beer style across all states\n",
    "rating_variance_by_style = reviews_by_beer_state.groupby('style')['overall'].var().sort_values(ascending=False)\n",
    "print(\"Beer styles with the highest variance in ratings across states:\")\n",
    "print(rating_variance_by_style.head(10))\n",
    "\n",
    "# plot top10 by highest var.\n",
    "plt.figure(figsize=(10, 6))\n",
    "rating_variance_by_style.head(10).plot(kind='bar')\n",
    "plt.title('Top 10 beer type by rating var. across states')\n",
    "plt.xlabel('Beer style')\n",
    "plt.ylabel('Variance in all ratings')\n",
    "plt.xticks(rotation=45)\n",
    "plt.show()\n"
   ]
  },
  {
   "cell_type": "markdown",
   "metadata": {},
   "source": [
    "## Correlation of data for global rating"
   ]
  },
  {
   "cell_type": "code",
   "execution_count": null,
   "metadata": {},
   "outputs": [
    {
     "name": "stdout",
     "output_type": "stream",
     "text": [
      "Correlation of criterion with rating by beer style\n",
      "                                 appearance     aroma    palate     taste  \\\n",
      "Altbier                           -0.078269 -0.063418 -0.045403 -0.032804   \n",
      "American Adjunct Lager             0.288332  0.317479  0.322582  0.344913   \n",
      "American Amber / Red Ale           0.062904  0.106254  0.097755  0.104936   \n",
      "American Amber / Red Lager         0.150192  0.155615  0.151391  0.151476   \n",
      "American Barleywine               -0.044680 -0.032289 -0.039025 -0.026704   \n",
      "...                                     ...       ...       ...       ...   \n",
      "Braggot                            0.113204  0.133813  0.122774  0.158288   \n",
      "Faro                               0.097795  0.186831  0.156079  0.196818   \n",
      "Lambic - Unblended                 0.186612  0.153148  0.157018  0.182692   \n",
      "Bière de Champagne / Bière Brut    0.332704  0.378910  0.391410  0.403145   \n",
      "Roggenbier                         0.056153  0.077936  0.027464  0.069238   \n",
      "\n",
      "                                  overall  \n",
      "Altbier                         -0.015006  \n",
      "American Adjunct Lager           0.325580  \n",
      "American Amber / Red Ale         0.096116  \n",
      "American Amber / Red Lager       0.149690  \n",
      "American Barleywine             -0.040846  \n",
      "...                                   ...  \n",
      "Braggot                          0.136065  \n",
      "Faro                             0.220783  \n",
      "Lambic - Unblended               0.173871  \n",
      "Bière de Champagne / Bière Brut  0.377906  \n",
      "Roggenbier                       0.051973  \n",
      "\n",
      "[102 rows x 5 columns]\n"
     ]
    },
    {
     "data": {
      "image/png": "[encoded data removed]",
      "text/plain": [
       "<Figure size 800x500 with 1 Axes>"
      ]
     },
     "metadata": {},
     "output_type": "display_data"
    }
   ],
   "source": [
    "#criterias to analyse corr. with rating\n",
    "criteria = ['appearance', 'aroma', 'palate', 'taste', 'overall']\n",
    "criteria_correlation_by_style = {}\n",
    "\n",
    "for style in beer_styles:\n",
    "    style_data = reviews_by_beer_state[reviews_by_beer_state['style'] == style]\n",
    "    if len(style_data) > 20:\n",
    "        correlations = style_data[criteria + ['rating']].corr()['rating'].drop('rating')\n",
    "        criteria_correlation_by_style[style] = correlations\n",
    "\n",
    "criteria_correlation_df = pd.DataFrame(criteria_correlation_by_style)\n",
    "criteria_correlation_df = criteria_correlation_df.T\n",
    "\n",
    "print(\"Correlation of criterion with rating by beer style\")\n",
    "print(criteria_correlation_df)\n",
    "\n",
    "specific_style = \"English Pale Ale\"\n",
    "if specific_style in criteria_correlation_df.index:\n",
    "    criteria_correlation_df.loc[specific_style].plot(kind='bar', figsize=(8, 5))\n",
    "    plt.title(f'Correlation of criter with Rating for {specific_style}')\n",
    "    plt.xlabel('Critere')\n",
    "    plt.ylabel('Correlation with rating')\n",
    "    plt.xticks(rotation=45)\n",
    "    plt.show()\n",
    "\n"
   ]
  },
  {
   "cell_type": "markdown",
   "metadata": {},
   "source": []
  },
  {
   "cell_type": "markdown",
   "metadata": {},
   "source": [
    "# Cleaning and wrangling the data\n",
    "\n",
    "For each dataset, we will clean the data by removing duplicates, missing values, and irrelevant columns.\n",
    "To remove missing values we'll use the following strategy:\n",
    "We'll extract a new column containing a boolean value indicating if the row has missing values. And replace the missing values by 0. This can be useful in a logistic regression if having a missing value at field x actually yields some information.\n",
    "\n",
    "N.B.: since the datasets are quite heavy, we overwrite the raw files with the wrangled ones instead of saving new files. If we want the raw files again, we have to load again the tar_gz_to_csv function as explained above."
   ]
  },
  {
   "cell_type": "code",
   "execution_count": null,
   "metadata": {},
   "outputs": [],
   "source": [
    "data_path = \"data/raw\"\n",
    "Ratebeer_path = lambda path: f\"{data_path}/Ratebeer\"\n",
    "BeerAdvocate_path = lambda path: f\"{data_path}/BeerAdvocate\"\n",
    "Matched_path = lambda path: f\"{data_path}/MatchedBeerData\"\n",
    "clean_path = \"data/clean\""
   ]
  },
  {
   "cell_type": "markdown",
   "metadata": {},
   "source": [
    "### Cleaning BeerAdvocate data\n",
    "\n",
    "We'll start by cleaning the BeerAdvocate data. We'll clean the users, ratings, beers, and breweries data.\n",
    "For users, we'll only focus on american users. \n",
    "We'll filter the users by their location and keep only the ones that have a location in the USA. Same with ratings we'll remove those not made by american users. We also remove the text reviews as we won't use them. Finally the missing data are handled as explained above."
   ]
  },
  {
   "cell_type": "code",
   "execution_count": null,
   "metadata": {},
   "outputs": [],
   "source": [
    "wrangling.clean_beer_advocate(\n",
    "    raw_data_path=BeerAdvocate_path(data_path),\n",
    "    clean_data_path=BeerAdvocate_path(clean_path)\n",
    ")"
   ]
  },
  {
   "cell_type": "markdown",
   "metadata": {},
   "source": [
    "### Cleaning RateBeer data\n",
    "\n",
    "The cleaning process is exactly the same as for BeerAdvocate"
   ]
  },
  {
   "cell_type": "code",
   "execution_count": null,
   "metadata": {},
   "outputs": [],
   "source": [
    "wrangling.clean_ratebeer(\n",
    "    raw_data_path=Ratebeer_path(data_path),\n",
    "    clean_data_path=Ratebeer_path(clean_path)\n",
    ")"
   ]
  },
  {
   "cell_type": "markdown",
   "metadata": {},
   "source": [
    "### Cleaning Matched data\n",
    "\n",
    "Here the cleaning is a bit different as we have to match the data from BeerAdvocate and RateBeer.\n",
    "As the columns have multiple types (the first row contains the name of the column in the original dataset), we have to clean them first. We'll delete the first row and append it to the column names so that they are more readable (for example ra_1 becomes ra_text). We'll then convert the columns to the correct type and remove the rows with missing values. The rest of the cleaning process is the same as for the other datasets."
   ]
  },
  {
   "cell_type": "code",
   "execution_count": null,
   "metadata": {},
   "outputs": [],
   "source": [
    "wrangling.clean_matched_data(\n",
    "    raw_data_path=Matched_path(data_path),\n",
    "    clean_data_path=Matched_path(clean_path)\n",
    ")"
   ]
  },
  {
   "cell_type": "markdown",
   "metadata": {},
   "source": [
    "As an example of possible plot, below is the statewise Real Personal consumption expenditure per capita for the year 2010."
   ]
  },
  {
   "cell_type": "markdown",
   "metadata": {},
   "source": [
    "## Analyse distribution of US users per state\n",
    "\n",
    "This part displays the distribution of users per US state. There are more than 130'000 users in America, not evenly distributed. The state with the most users has more than 14'000 of them, whereas the states with the least amount of users have only a couple hundreds of them. These numbers are reasonnably well correlated with the population in each state."
   ]
  },
  {
   "cell_type": "code",
   "execution_count": null,
   "metadata": {},
   "outputs": [],
   "source": [
    "# get the data\n",
    "\n",
    "users_matched = data_matched['matched_beer_data_users.csv']\n",
    "users_ba = data_ba['BeerAdvocate_users.csv']\n",
    "users_rb = data_rb['RateBeer_users.csv']\n",
    "users_ba = users_ba.dropna(subset=['location'])\n",
    "users_rb = users_rb.dropna(subset=['location'])"
   ]
  },
  {
   "cell_type": "code",
   "execution_count": null,
   "metadata": {},
   "outputs": [],
   "source": [
    "# get the number of American users\n",
    "\n",
    "users_matched_usa = users_matched[users_matched['ba.1'].str.startswith('United States')]\n",
    "users_ba_usa = users_ba[users_ba['location'].str.startswith('United States')]\n",
    "users_rb_usa = users_rb[users_rb['location'].str.startswith('United States')]\n",
    "\n",
    "print(f\"Number of matched users in USA: {users_matched_usa.shape[0]}\")\n",
    "print(f\"Number of BeerAdvocate users in USA: {users_ba_usa.shape[0]}\")\n",
    "print(f\"Number of RateBeer users in USA: {users_rb_usa.shape[0]}\")"
   ]
  },
  {
   "cell_type": "code",
   "execution_count": null,
   "metadata": {},
   "outputs": [],
   "source": [
    "# compute the statewise distribution of users\n",
    "\n",
    "states_usa_ba = users_ba_usa['location'].apply(lambda x: x.split(', ')[1])\n",
    "states_usa_rb = users_rb_usa['location'].apply(lambda x: x.split(', ')[1])\n",
    "\n",
    "# print(f\"USA states represented in BeerAdvocate: {len(states_usa_ba.unique())}\")\n",
    "# print(f\"USA states represented in RateBeer: {len(states_usa_rb.unique())}\")\n",
    "\n",
    "# print(f\"Number of users per state in BeerAdvocate: {states_usa_ba.value_counts()}\")\n",
    "# print(f\"Number of users per state in RateBeer: {states_usa_rb.value_counts()}\")\n",
    "\n",
    "users_per_state_ba = states_usa_ba.value_counts().to_dict()\n",
    "users_per_state_rb = states_usa_rb.value_counts().to_dict()\n",
    "users_per_state_barb = {k: (users_per_state_ba[k] + users_per_state_rb[k]) for k in users_per_state_ba.keys()}\n",
    "\n",
    "states = users_per_state_barb.keys()\n",
    "users = users_per_state_barb.values()\n",
    "\n",
    "fig, ax = plt.subplots(figsize=(15, 8))\n",
    "ax.bar(states, users)\n",
    "ax.set_ylabel('Number of users')\n",
    "ax.set_xlabel('States')\n",
    "plt.xticks(rotation=90)\n",
    "plt.show()"
   ]
  },
  {
   "cell_type": "markdown",
   "metadata": {},
   "source": [
    "## Analyse distribution of US Breweries per state\n",
    "\n",
    "This part displays the distribution of breweries per US state. There are more than 10'000 breweries in America, not evenly distributed. The state with the most breweries has about 1'800 of them, whereas the states with the least amount of users have a couple tens of them. These numbers are reasonnably well correlated with the population in each state."
   ]
  },
  {
   "cell_type": "code",
   "execution_count": null,
   "metadata": {},
   "outputs": [],
   "source": [
    "# get the data\n",
    "\n",
    "breweries_matched = data_matched['matched_beer_data_breweries.csv']\n",
    "breweries_ba = data_ba['BeerAdvocate_breweries.csv']\n",
    "breweries_rb = data_rb['RateBeer_breweries.csv']\n",
    "breweries_ba = breweries_ba.dropna(subset=['location'])\n",
    "breweries_rb = breweries_rb.dropna(subset=['location'])"
   ]
  },
  {
   "cell_type": "code",
   "execution_count": null,
   "metadata": {},
   "outputs": [],
   "source": [
    "# get the number of American breweries\n",
    "\n",
    "breweries_matched_usa = breweries_matched[breweries_matched['ba.1'].str.startswith('United States')]\n",
    "breweries_ba_usa = breweries_ba[breweries_ba['location'].str.startswith('United States')]\n",
    "breweries_rb_usa = breweries_rb[breweries_rb['location'].str.startswith('United States')]\n",
    "\n",
    "print(f\"Number of matched breweries in USA: {breweries_matched_usa.shape[0]}\")\n",
    "print(f\"Number of BeerAdvocate breweries in USA: {breweries_ba_usa.shape[0]}\")\n",
    "print(f\"Number of RateBeer breweries in USA: {breweries_rb_usa.shape[0]}\")"
   ]
  },
  {
   "cell_type": "code",
   "execution_count": null,
   "metadata": {},
   "outputs": [],
   "source": [
    "# compute the statewise distribution of breweries\n",
    "\n",
    "breweries_name_split_ba = breweries_ba_usa['location'].apply(lambda x: len(x.split(',')))\n",
    "breweries_filtered_ba = breweries_ba_usa[breweries_name_split_ba == 2]\n",
    "breweries_filtered_ba = breweries_filtered_ba[breweries_filtered_ba['location'] != 'United States, United States']\n",
    "breweries_per_states_ba = breweries_filtered_ba['location'].apply(lambda x: x.split(',')[1])\n",
    "\n",
    "breweries_name_split_rb = breweries_rb_usa['location'].apply(lambda x: len(x.split(',')))\n",
    "breweries_filtered_rb = breweries_rb_usa[breweries_name_split_rb == 2]\n",
    "breweries_filtered_rb['location'] = breweries_filtered_rb['location'].mask(breweries_filtered_rb['location'] == 'United States, Washington DC', 'United States, California')\n",
    "breweries_per_states_rb = breweries_filtered_rb['location'].apply(lambda x: x.split(',')[1])\n",
    "\n",
    "# print(f\"USA states with breweries represented in BeerAdvocate: {len(breweries_per_states_ba.unique())}\")\n",
    "# print(f\"USA states with breweries represented in RateBeer: {len(breweries_per_states_rb.unique())}\")\n",
    "\n",
    "# print(f\"Number of breweries per state in BeerAdvocate: {breweries_per_states_ba.value_counts()}\")\n",
    "# print(f\"Number of breweries per state in RateBeer: {breweries_per_states_rb.value_counts()}\")\n",
    "\n",
    "breweries_per_state_ba = breweries_per_states_ba.value_counts().to_dict()\n",
    "breweries_per_state_rb = breweries_per_states_rb.value_counts().to_dict()\n",
    "\n",
    "# delete the space at the start of each key\n",
    "breweries_per_state_ba = {k[1:]: v for k, v in breweries_per_state_ba.items()}\n",
    "breweries_per_state_rb = {k[1:]: v for k, v in breweries_per_state_rb.items()}\n",
    "\n",
    "breweries_per_state_barb = {k: (breweries_per_state_ba[k] + breweries_per_state_rb[k]) for k in breweries_per_state_ba.keys()}\n",
    "\n",
    "states = breweries_per_state_barb.keys()\n",
    "users = breweries_per_state_barb.values()\n",
    "\n",
    "fig, ax = plt.subplots(figsize=(15, 8))\n",
    "ax.bar(states, users)\n",
    "ax.set_ylabel('Number of users')\n",
    "ax.set_xlabel('States')\n",
    "plt.xticks(rotation=90)\n",
    "plt.show()"
   ]
  },
  {
   "cell_type": "markdown",
   "metadata": {},
   "source": [
    "## Analyse ratio of users per brewery in each state\n",
    "\n",
    "This part displays the ratio of users per brewery in each American state. Compared to the two previously computed distribution, the ranking is less strongly correlated with the population of each states."
   ]
  },
  {
   "cell_type": "code",
   "execution_count": null,
   "metadata": {},
   "outputs": [],
   "source": [
    "# Amount of users per brewery in each state\n",
    "users_per_brewery_barb = {k: (users_per_state_barb[k] / breweries_per_state_barb[k]) for k in users_per_state_ba.keys()}\n",
    "print(users_per_brewery_barb)\n",
    "\n",
    "# Sort so easier to view plot\n",
    "sorted_users_per_brewery_ba = dict(sorted(users_per_brewery_barb.items(), key=lambda item: item[1]))\n",
    "\n",
    "states = sorted_users_per_brewery_ba.keys()\n",
    "users_per_brewery = sorted_users_per_brewery_ba.values()\n",
    "\n",
    "fig, ax = plt.subplots(figsize=(15, 8))\n",
    "ax.bar(states, users_per_brewery)\n",
    "ax.set_ylabel('Number of users per brewery')\n",
    "ax.set_xlabel('States')\n",
    "plt.xticks(rotation=90)\n",
    "plt.show()"
   ]
  },
  {
   "cell_type": "markdown",
   "metadata": {},
   "source": [
    "### Data from Census\n",
    "\n",
    "Print the data from the urban vs rural census. As mentioned in the README, this data will probably not be used in the final rapport."
   ]
  },
  {
   "cell_type": "code",
   "execution_count": null,
   "metadata": {},
   "outputs": [],
   "source": [
    "census_path = 'data/raw/Census/'\n",
    "file_name_2020 = 'DECENNIALCD1182020.H2_rural_urban_US.csv'\n",
    "file_name_2010 = 'DECENNIALCD1162010.H2_rural_urban_US.csv'\n",
    "\n",
    "urban_2020_df = load_urban_frac_df(census_path, file_name_2020).reset_index()\n",
    "urban_2010_df = load_urban_frac_df(census_path, file_name_2010).reset_index()\n",
    "\n",
    "print(urban_2020_df.head())\n",
    "print(urban_2010_df.head())"
   ]
  },
  {
   "cell_type": "markdown",
   "metadata": {},
   "source": [
    "## Data from BEA\n",
    "\n",
    "This dataframe contains various statewise economic indicators, more info in the source or in the index of the .csv. The following dictionnary gives a first overview."
   ]
  },
  {
   "cell_type": "code",
   "execution_count": null,
   "metadata": {},
   "outputs": [],
   "source": [
    "path = \"data/raw/IncomeBEA/\"\n",
    "filename = \"GDP_PersonalIncome_USState.csv\"\n",
    "\n",
    "# DPI: disposable personal income\n",
    "# PI: personal income\n",
    "# PCE: personal consumption expenditures\n",
    "# GDP: Gross Domestic Product\n",
    "BEO_income_index = {\n",
    "    'RealGDP': 1, \n",
    "    'RealPI':2, \n",
    "    'RealPCE': 3,\n",
    "    'GDP': 4,  \n",
    "    'PI': 5, \n",
    "    'DPI': 6,\n",
    "    'PCE': 7,\n",
    "    'RealPI/cap': 8,\n",
    "    'RealPCE/cap': 9,\n",
    "    'PI/cap': 10,\n",
    "    'DPI/cap': 11,\n",
    "    'PCE/cap': 12     \n",
    "    #13 14 15 useless\n",
    "}"
   ]
  },
  {
   "cell_type": "code",
   "execution_count": null,
   "metadata": {},
   "outputs": [],
   "source": [
    "\n",
    "BEA = loadBEA(path, filename, BEO_income_index)\n",
    "BEA = get_mutliIndex_sub_df(BEA, ['RealPCE/cap'], ['2010'])\n",
    "\n",
    "states = [x[0] for x in BEA.index.values]\n",
    "\n",
    "fig, ax = plt.subplots(figsize=(15, 8))\n",
    "ax.bar(states, BEA['RealPCE/cap'])\n",
    "ax.set_ylabel('Real Personal Consumption expenditures per capita')\n",
    "ax.set_xlabel('States')\n",
    "plt.xticks(rotation=90)\n",
    "plt.show()"
   ]
  },
  {
   "cell_type": "markdown",
   "metadata": {},
   "source": [
    "## Number of users per habitant in each state\n",
    "This allows us to see if we have enough users per state, compared to its population. These values range approximately between 500 and 3'000 inhabitant per user."
   ]
  },
  {
   "cell_type": "code",
   "execution_count": null,
   "metadata": {},
   "outputs": [],
   "source": [
    "# get the statewise population by adding the rural and urban population\n",
    "\n",
    "if all(col in urban_2010_df.columns for col in ['urban_pop', 'rural_pop', 'urban_frac']):\n",
    "    urban_2010_df = urban_2010_df.drop(columns=['urban_pop', 'rural_pop', 'urban_frac'])\n",
    "urban_2010_dict = urban_2010_df.set_index('state').to_dict()['total_pop']\n",
    "\n",
    "# delete keys states that are not in the 50 official\n",
    "urban_2010_dict = {k: v for k, v in urban_2010_dict.items() if k in users_per_state_barb.keys()}\n",
    "\n",
    "# number of habitants per user in each state\n",
    "users_per_habitant = {k: (urban_2010_dict[k] / users_per_state_barb[k]) for k in users_per_state_barb.keys()}\n",
    "print(users_per_habitant)\n",
    "\n",
    "states = users_per_habitant.keys()\n",
    "users_per_habitant = users_per_habitant.values()\n",
    "\n",
    "fig, ax = plt.subplots(figsize=(15, 8))\n",
    "ax.bar(states, users_per_habitant)\n",
    "ax.set_ylabel('Number of users per habitant')\n",
    "ax.set_xlabel('States')\n",
    "plt.xticks(rotation=90)\n",
    "plt.show()"
   ]
  },
  {
   "cell_type": "markdown",
   "metadata": {},
   "source": [
    "## Alcohol consumption per capita per state\n",
    "\n",
    "This loads the statewise alcohol data table and displays the two most interesting column to us, the per capita beer ethanol consumption and per capita nominal beer consumption."
   ]
  },
  {
   "cell_type": "code",
   "execution_count": null,
   "metadata": {},
   "outputs": [],
   "source": [
    "icpsr_path = 'data/raw/OPENICPSR/OPENICPSR_apparent_per_capita_alcohol_consumption.csv'\n",
    "data_icpsr = load_icpsr(icpsr_path) # load + format data\n",
    "print('available years: ', data_icpsr.keys())\n",
    "data_icpsr['2016'].head(5)"
   ]
  },
  {
   "cell_type": "markdown",
   "metadata": {},
   "source": [
    "## Age distribution per state\n",
    "\n",
    "This loads the statewise age distribution. They are expressed in two ways per 5 years age interval, in absolute count and in relative percentage."
   ]
  },
  {
   "cell_type": "code",
   "execution_count": null,
   "metadata": {},
   "outputs": [],
   "source": [
    "age_path = 'data/raw/GeneralPopulationAge/DECENNIALDP2020.DP1-2024-11-14T134434.csv'\n",
    "age_total, age_male, age_female = load_age_data(age_path, load_gender = True)\n",
    "age_total.head(5)"
   ]
  }
 ],
 "metadata": {
  "language_info": {
   "name": "python"
  }
 },
 "nbformat": 4,
 "nbformat_minor": 2
}
